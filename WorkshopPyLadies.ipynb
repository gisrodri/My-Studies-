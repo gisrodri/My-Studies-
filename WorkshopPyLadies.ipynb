{
  "nbformat": 4,
  "nbformat_minor": 0,
  "metadata": {
    "colab": {
      "name": "WorkshopPyLadies.ipynb",
      "provenance": [],
      "collapsed_sections": []
    },
    "kernelspec": {
      "name": "python3",
      "display_name": "Python 3"
    }
  },
  "cells": [
    {
      "cell_type": "code",
      "metadata": {
        "id": "6QZLWm7X5Zdx",
        "colab_type": "code",
        "outputId": "f0ce0c3b-0e4d-45b6-f382-8f3e5ea9f9d8",
        "colab": {
          "resources": {
            "http://localhost:8080/nbextensions/google.colab/files.js": {
              "data": "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",
              "ok": true,
              "headers": [
                [
                  "content-type",
                  "application/javascript"
                ]
              ],
              "status": 200,
              "status_text": ""
            }
          },
          "base_uri": "https://localhost:8080/",
          "height": 71
        }
      },
      "source": [
        "#Abrindo as bibliotecas para o workshop das maravilhosas\n",
        "\n",
        "import pandas as pd\n",
        "import matplotlib.pyplot as plt\n",
        "from google.colab import files\n",
        "\n",
        "uploaded = files.upload()"
      ],
      "execution_count": 0,
      "outputs": [
        {
          "output_type": "display_data",
          "data": {
            "text/html": [
              "\n",
              "     <input type=\"file\" id=\"files-8122dfbd-5ceb-43a0-a775-eeeaf23b594b\" name=\"files[]\" multiple disabled />\n",
              "     <output id=\"result-8122dfbd-5ceb-43a0-a775-eeeaf23b594b\">\n",
              "      Upload widget is only available when the cell has been executed in the\n",
              "      current browser session. Please rerun this cell to enable.\n",
              "      </output>\n",
              "      <script src=\"/nbextensions/google.colab/files.js\"></script> "
            ],
            "text/plain": [
              "<IPython.core.display.HTML object>"
            ]
          },
          "metadata": {
            "tags": []
          }
        },
        {
          "output_type": "stream",
          "text": [
            "Saving tips.csv to tips.csv\n"
          ],
          "name": "stdout"
        }
      ]
    },
    {
      "cell_type": "code",
      "metadata": {
        "id": "6d5sLum-JirC",
        "colab_type": "code",
        "colab": {}
      },
      "source": [
        "tips_data = pd.read_csv('tips.csv')"
      ],
      "execution_count": 0,
      "outputs": []
    },
    {
      "cell_type": "code",
      "metadata": {
        "id": "OHcHm16EOLWz",
        "colab_type": "code",
        "outputId": "16940814-d8cc-4b1a-c0e2-105f7f83bad9",
        "colab": {
          "base_uri": "https://localhost:8080/",
          "height": 286
        }
      },
      "source": [
        "#Mostre as 7 primeiras linhas dataset\n",
        "tips_data.head(7)"
      ],
      "execution_count": 0,
      "outputs": [
        {
          "output_type": "execute_result",
          "data": {
            "text/html": [
              "<div>\n",
              "<style scoped>\n",
              "    .dataframe tbody tr th:only-of-type {\n",
              "        vertical-align: middle;\n",
              "    }\n",
              "\n",
              "    .dataframe tbody tr th {\n",
              "        vertical-align: top;\n",
              "    }\n",
              "\n",
              "    .dataframe thead th {\n",
              "        text-align: right;\n",
              "    }\n",
              "</style>\n",
              "<table border=\"1\" class=\"dataframe\">\n",
              "  <thead>\n",
              "    <tr style=\"text-align: right;\">\n",
              "      <th></th>\n",
              "      <th>total_conta</th>\n",
              "      <th>gorjeta</th>\n",
              "      <th>genero</th>\n",
              "      <th>fumante</th>\n",
              "      <th>dia</th>\n",
              "      <th>horario</th>\n",
              "      <th>pessoas_mesa</th>\n",
              "      <th>tempo_permanencia</th>\n",
              "    </tr>\n",
              "  </thead>\n",
              "  <tbody>\n",
              "    <tr>\n",
              "      <th>0</th>\n",
              "      <td>16.99</td>\n",
              "      <td>1.01</td>\n",
              "      <td>Feminino</td>\n",
              "      <td>nao</td>\n",
              "      <td>dom</td>\n",
              "      <td>jantar</td>\n",
              "      <td>2</td>\n",
              "      <td>41</td>\n",
              "    </tr>\n",
              "    <tr>\n",
              "      <th>1</th>\n",
              "      <td>10.34</td>\n",
              "      <td>1.66</td>\n",
              "      <td>Masculino</td>\n",
              "      <td>nao</td>\n",
              "      <td>dom</td>\n",
              "      <td>jantar</td>\n",
              "      <td>3</td>\n",
              "      <td>40</td>\n",
              "    </tr>\n",
              "    <tr>\n",
              "      <th>2</th>\n",
              "      <td>21.01</td>\n",
              "      <td>3.50</td>\n",
              "      <td>Masculino</td>\n",
              "      <td>nao</td>\n",
              "      <td>dom</td>\n",
              "      <td>jantar</td>\n",
              "      <td>3</td>\n",
              "      <td>49</td>\n",
              "    </tr>\n",
              "    <tr>\n",
              "      <th>3</th>\n",
              "      <td>23.68</td>\n",
              "      <td>3.31</td>\n",
              "      <td>Masculino</td>\n",
              "      <td>nao</td>\n",
              "      <td>dom</td>\n",
              "      <td>jantar</td>\n",
              "      <td>2</td>\n",
              "      <td>43</td>\n",
              "    </tr>\n",
              "    <tr>\n",
              "      <th>4</th>\n",
              "      <td>24.59</td>\n",
              "      <td>3.61</td>\n",
              "      <td>Feminino</td>\n",
              "      <td>nao</td>\n",
              "      <td>dom</td>\n",
              "      <td>jantar</td>\n",
              "      <td>4</td>\n",
              "      <td>34</td>\n",
              "    </tr>\n",
              "    <tr>\n",
              "      <th>5</th>\n",
              "      <td>25.29</td>\n",
              "      <td>4.71</td>\n",
              "      <td>Masculino</td>\n",
              "      <td>nao</td>\n",
              "      <td>dom</td>\n",
              "      <td>jantar</td>\n",
              "      <td>4</td>\n",
              "      <td>39</td>\n",
              "    </tr>\n",
              "    <tr>\n",
              "      <th>6</th>\n",
              "      <td>8.77</td>\n",
              "      <td>2.00</td>\n",
              "      <td>Masculino</td>\n",
              "      <td>nao</td>\n",
              "      <td>dom</td>\n",
              "      <td>jantar</td>\n",
              "      <td>2</td>\n",
              "      <td>41</td>\n",
              "    </tr>\n",
              "  </tbody>\n",
              "</table>\n",
              "</div>"
            ],
            "text/plain": [
              "   total_conta  gorjeta     genero  ... horario pessoas_mesa tempo_permanencia\n",
              "0        16.99     1.01   Feminino  ...  jantar            2                41\n",
              "1        10.34     1.66  Masculino  ...  jantar            3                40\n",
              "2        21.01     3.50  Masculino  ...  jantar            3                49\n",
              "3        23.68     3.31  Masculino  ...  jantar            2                43\n",
              "4        24.59     3.61   Feminino  ...  jantar            4                34\n",
              "5        25.29     4.71  Masculino  ...  jantar            4                39\n",
              "6         8.77     2.00  Masculino  ...  jantar            2                41\n",
              "\n",
              "[7 rows x 8 columns]"
            ]
          },
          "metadata": {
            "tags": []
          },
          "execution_count": 6
        }
      ]
    },
    {
      "cell_type": "code",
      "metadata": {
        "id": "XMnxrTYZOpdy",
        "colab_type": "code",
        "outputId": "8b12a6f4-44a0-4694-bd41-80ac050b3f03",
        "colab": {
          "base_uri": "https://localhost:8080/",
          "height": 348
        }
      },
      "source": [
        "#Mostre as 9 últimas linhas\n",
        "tips_data.tail(9)"
      ],
      "execution_count": 0,
      "outputs": [
        {
          "output_type": "execute_result",
          "data": {
            "text/html": [
              "<div>\n",
              "<style scoped>\n",
              "    .dataframe tbody tr th:only-of-type {\n",
              "        vertical-align: middle;\n",
              "    }\n",
              "\n",
              "    .dataframe tbody tr th {\n",
              "        vertical-align: top;\n",
              "    }\n",
              "\n",
              "    .dataframe thead th {\n",
              "        text-align: right;\n",
              "    }\n",
              "</style>\n",
              "<table border=\"1\" class=\"dataframe\">\n",
              "  <thead>\n",
              "    <tr style=\"text-align: right;\">\n",
              "      <th></th>\n",
              "      <th>total_conta</th>\n",
              "      <th>gorjeta</th>\n",
              "      <th>genero</th>\n",
              "      <th>fumante</th>\n",
              "      <th>dia</th>\n",
              "      <th>horario</th>\n",
              "      <th>pessoas_mesa</th>\n",
              "      <th>tempo_permanencia</th>\n",
              "    </tr>\n",
              "  </thead>\n",
              "  <tbody>\n",
              "    <tr>\n",
              "      <th>235</th>\n",
              "      <td>10.07</td>\n",
              "      <td>1.25</td>\n",
              "      <td>Masculino</td>\n",
              "      <td>nao</td>\n",
              "      <td>sab</td>\n",
              "      <td>jantar</td>\n",
              "      <td>2</td>\n",
              "      <td>30</td>\n",
              "    </tr>\n",
              "    <tr>\n",
              "      <th>236</th>\n",
              "      <td>12.60</td>\n",
              "      <td>1.00</td>\n",
              "      <td>Masculino</td>\n",
              "      <td>sim</td>\n",
              "      <td>sab</td>\n",
              "      <td>jantar</td>\n",
              "      <td>2</td>\n",
              "      <td>50</td>\n",
              "    </tr>\n",
              "    <tr>\n",
              "      <th>237</th>\n",
              "      <td>32.83</td>\n",
              "      <td>1.17</td>\n",
              "      <td>Masculino</td>\n",
              "      <td>sim</td>\n",
              "      <td>sab</td>\n",
              "      <td>jantar</td>\n",
              "      <td>2</td>\n",
              "      <td>38</td>\n",
              "    </tr>\n",
              "    <tr>\n",
              "      <th>238</th>\n",
              "      <td>35.83</td>\n",
              "      <td>4.67</td>\n",
              "      <td>Feminino</td>\n",
              "      <td>nao</td>\n",
              "      <td>sab</td>\n",
              "      <td>jantar</td>\n",
              "      <td>3</td>\n",
              "      <td>42</td>\n",
              "    </tr>\n",
              "    <tr>\n",
              "      <th>239</th>\n",
              "      <td>29.03</td>\n",
              "      <td>5.92</td>\n",
              "      <td>Masculino</td>\n",
              "      <td>nao</td>\n",
              "      <td>sab</td>\n",
              "      <td>jantar</td>\n",
              "      <td>3</td>\n",
              "      <td>40</td>\n",
              "    </tr>\n",
              "    <tr>\n",
              "      <th>240</th>\n",
              "      <td>27.18</td>\n",
              "      <td>2.00</td>\n",
              "      <td>Feminino</td>\n",
              "      <td>sim</td>\n",
              "      <td>sab</td>\n",
              "      <td>jantar</td>\n",
              "      <td>2</td>\n",
              "      <td>35</td>\n",
              "    </tr>\n",
              "    <tr>\n",
              "      <th>241</th>\n",
              "      <td>22.67</td>\n",
              "      <td>2.00</td>\n",
              "      <td>Masculino</td>\n",
              "      <td>sim</td>\n",
              "      <td>sab</td>\n",
              "      <td>jantar</td>\n",
              "      <td>2</td>\n",
              "      <td>30</td>\n",
              "    </tr>\n",
              "    <tr>\n",
              "      <th>242</th>\n",
              "      <td>17.82</td>\n",
              "      <td>1.75</td>\n",
              "      <td>Masculino</td>\n",
              "      <td>nao</td>\n",
              "      <td>sab</td>\n",
              "      <td>jantar</td>\n",
              "      <td>2</td>\n",
              "      <td>38</td>\n",
              "    </tr>\n",
              "    <tr>\n",
              "      <th>243</th>\n",
              "      <td>18.78</td>\n",
              "      <td>3.00</td>\n",
              "      <td>Feminino</td>\n",
              "      <td>nao</td>\n",
              "      <td>qui</td>\n",
              "      <td>jantar</td>\n",
              "      <td>2</td>\n",
              "      <td>40</td>\n",
              "    </tr>\n",
              "  </tbody>\n",
              "</table>\n",
              "</div>"
            ],
            "text/plain": [
              "     total_conta  gorjeta     genero  ... horario pessoas_mesa tempo_permanencia\n",
              "235        10.07     1.25  Masculino  ...  jantar            2                30\n",
              "236        12.60     1.00  Masculino  ...  jantar            2                50\n",
              "237        32.83     1.17  Masculino  ...  jantar            2                38\n",
              "238        35.83     4.67   Feminino  ...  jantar            3                42\n",
              "239        29.03     5.92  Masculino  ...  jantar            3                40\n",
              "240        27.18     2.00   Feminino  ...  jantar            2                35\n",
              "241        22.67     2.00  Masculino  ...  jantar            2                30\n",
              "242        17.82     1.75  Masculino  ...  jantar            2                38\n",
              "243        18.78     3.00   Feminino  ...  jantar            2                40\n",
              "\n",
              "[9 rows x 8 columns]"
            ]
          },
          "metadata": {
            "tags": []
          },
          "execution_count": 7
        }
      ]
    },
    {
      "cell_type": "code",
      "metadata": {
        "id": "EdEViD_jPBu5",
        "colab_type": "code",
        "outputId": "ec354850-16da-4bda-d275-b66d0296c8da",
        "colab": {
          "base_uri": "https://localhost:8080/",
          "height": 34
        }
      },
      "source": [
        "#Quantidade de colunas e linhas\n",
        "tips_data.shape"
      ],
      "execution_count": 0,
      "outputs": [
        {
          "output_type": "execute_result",
          "data": {
            "text/plain": [
              "(244, 8)"
            ]
          },
          "metadata": {
            "tags": []
          },
          "execution_count": 9
        }
      ]
    },
    {
      "cell_type": "code",
      "metadata": {
        "id": "Tu7Po6_4PQzR",
        "colab_type": "code",
        "outputId": "1cfb189c-f7f8-4bf2-fa10-99a77b75a292",
        "colab": {
          "base_uri": "https://localhost:8080/",
          "height": 68
        }
      },
      "source": [
        "#Nomes das colunas\n",
        "tips_data.columns"
      ],
      "execution_count": 0,
      "outputs": [
        {
          "output_type": "execute_result",
          "data": {
            "text/plain": [
              "Index(['total_conta', 'gorjeta', 'genero', 'fumante', 'dia', 'horario',\n",
              "       'pessoas_mesa', 'tempo_permanencia'],\n",
              "      dtype='object')"
            ]
          },
          "metadata": {
            "tags": []
          },
          "execution_count": 10
        }
      ]
    },
    {
      "cell_type": "code",
      "metadata": {
        "id": "HKQ5gBd5P-oP",
        "colab_type": "code",
        "outputId": "8f5fa512-fe8e-45c0-c627-e26c70eabde0",
        "colab": {
          "base_uri": "https://localhost:8080/",
          "height": 238
        }
      },
      "source": [
        "#informacao do dataset inteiro\n",
        "tips_data.info()"
      ],
      "execution_count": 0,
      "outputs": [
        {
          "output_type": "stream",
          "text": [
            "<class 'pandas.core.frame.DataFrame'>\n",
            "RangeIndex: 244 entries, 0 to 243\n",
            "Data columns (total 8 columns):\n",
            "total_conta          244 non-null float64\n",
            "gorjeta              244 non-null float64\n",
            "genero               244 non-null object\n",
            "fumante              244 non-null object\n",
            "dia                  244 non-null object\n",
            "horario              244 non-null object\n",
            "pessoas_mesa         244 non-null int64\n",
            "tempo_permanencia    244 non-null int64\n",
            "dtypes: float64(2), int64(2), object(4)\n",
            "memory usage: 15.3+ KB\n"
          ],
          "name": "stdout"
        }
      ]
    },
    {
      "cell_type": "code",
      "metadata": {
        "id": "NyVeB90kQ2sc",
        "colab_type": "code",
        "outputId": "f44a30b9-9ecd-40ed-908c-5c2d68866bad",
        "colab": {
          "base_uri": "https://localhost:8080/",
          "height": 1000
        }
      },
      "source": [
        "#Liste: a coluna gênero\n",
        "tips_data['genero']"
      ],
      "execution_count": 0,
      "outputs": [
        {
          "output_type": "execute_result",
          "data": {
            "text/plain": [
              "0       Feminino\n",
              "1      Masculino\n",
              "2      Masculino\n",
              "3      Masculino\n",
              "4       Feminino\n",
              "5      Masculino\n",
              "6      Masculino\n",
              "7      Masculino\n",
              "8      Masculino\n",
              "9      Masculino\n",
              "10     Masculino\n",
              "11      Feminino\n",
              "12     Masculino\n",
              "13     Masculino\n",
              "14      Feminino\n",
              "15     Masculino\n",
              "16      Feminino\n",
              "17     Masculino\n",
              "18      Feminino\n",
              "19     Masculino\n",
              "20     Masculino\n",
              "21      Feminino\n",
              "22      Feminino\n",
              "23     Masculino\n",
              "24     Masculino\n",
              "25     Masculino\n",
              "26     Masculino\n",
              "27     Masculino\n",
              "28     Masculino\n",
              "29      Feminino\n",
              "         ...    \n",
              "214     Feminino\n",
              "215     Feminino\n",
              "216    Masculino\n",
              "217    Masculino\n",
              "218    Masculino\n",
              "219     Feminino\n",
              "220    Masculino\n",
              "221     Feminino\n",
              "222    Masculino\n",
              "223     Feminino\n",
              "224    Masculino\n",
              "225     Feminino\n",
              "226     Feminino\n",
              "227    Masculino\n",
              "228    Masculino\n",
              "229     Feminino\n",
              "230    Masculino\n",
              "231    Masculino\n",
              "232    Masculino\n",
              "233    Masculino\n",
              "234    Masculino\n",
              "235    Masculino\n",
              "236    Masculino\n",
              "237    Masculino\n",
              "238     Feminino\n",
              "239    Masculino\n",
              "240     Feminino\n",
              "241    Masculino\n",
              "242    Masculino\n",
              "243     Feminino\n",
              "Name: genero, Length: 244, dtype: object"
            ]
          },
          "metadata": {
            "tags": []
          },
          "execution_count": 14
        }
      ]
    },
    {
      "cell_type": "code",
      "metadata": {
        "id": "jdrdBjNcRzDF",
        "colab_type": "code",
        "outputId": "3bfd115f-8019-4252-b753-93516752aa72",
        "colab": {
          "base_uri": "https://localhost:8080/",
          "height": 1000
        }
      },
      "source": [
        "#Somente a coluna gorjeta. \n",
        "tips_data['gorjeta']"
      ],
      "execution_count": 0,
      "outputs": [
        {
          "output_type": "execute_result",
          "data": {
            "text/plain": [
              "0      1.01\n",
              "1      1.66\n",
              "2      3.50\n",
              "3      3.31\n",
              "4      3.61\n",
              "5      4.71\n",
              "6      2.00\n",
              "7      3.12\n",
              "8      1.96\n",
              "9      3.23\n",
              "10     1.71\n",
              "11     5.00\n",
              "12     1.57\n",
              "13     3.00\n",
              "14     3.02\n",
              "15     3.92\n",
              "16     1.67\n",
              "17     3.71\n",
              "18     3.50\n",
              "19     3.35\n",
              "20     4.08\n",
              "21     2.75\n",
              "22     2.23\n",
              "23     7.58\n",
              "24     3.18\n",
              "25     2.34\n",
              "26     2.00\n",
              "27     2.00\n",
              "28     4.30\n",
              "29     3.00\n",
              "       ... \n",
              "214    6.50\n",
              "215    1.10\n",
              "216    3.00\n",
              "217    1.50\n",
              "218    1.44\n",
              "219    3.09\n",
              "220    2.20\n",
              "221    3.48\n",
              "222    1.92\n",
              "223    3.00\n",
              "224    1.58\n",
              "225    2.50\n",
              "226    2.00\n",
              "227    3.00\n",
              "228    2.72\n",
              "229    2.88\n",
              "230    2.00\n",
              "231    3.00\n",
              "232    3.39\n",
              "233    1.47\n",
              "234    3.00\n",
              "235    1.25\n",
              "236    1.00\n",
              "237    1.17\n",
              "238    4.67\n",
              "239    5.92\n",
              "240    2.00\n",
              "241    2.00\n",
              "242    1.75\n",
              "243    3.00\n",
              "Name: gorjeta, Length: 244, dtype: float64"
            ]
          },
          "metadata": {
            "tags": []
          },
          "execution_count": 15
        }
      ]
    },
    {
      "cell_type": "code",
      "metadata": {
        "id": "PKCRboD4R2zy",
        "colab_type": "code",
        "outputId": "ccdaa777-ee26-49e0-8963-05240223e78e",
        "colab": {
          "base_uri": "https://localhost:8080/",
          "height": 1000
        }
      },
      "source": [
        "#As duas colunas gorjeta e gênero.\n",
        "tips_data[['genero','gorjeta']]"
      ],
      "execution_count": 0,
      "outputs": [
        {
          "output_type": "execute_result",
          "data": {
            "text/html": [
              "<div>\n",
              "<style scoped>\n",
              "    .dataframe tbody tr th:only-of-type {\n",
              "        vertical-align: middle;\n",
              "    }\n",
              "\n",
              "    .dataframe tbody tr th {\n",
              "        vertical-align: top;\n",
              "    }\n",
              "\n",
              "    .dataframe thead th {\n",
              "        text-align: right;\n",
              "    }\n",
              "</style>\n",
              "<table border=\"1\" class=\"dataframe\">\n",
              "  <thead>\n",
              "    <tr style=\"text-align: right;\">\n",
              "      <th></th>\n",
              "      <th>genero</th>\n",
              "      <th>gorjeta</th>\n",
              "    </tr>\n",
              "  </thead>\n",
              "  <tbody>\n",
              "    <tr>\n",
              "      <th>0</th>\n",
              "      <td>Feminino</td>\n",
              "      <td>1.01</td>\n",
              "    </tr>\n",
              "    <tr>\n",
              "      <th>1</th>\n",
              "      <td>Masculino</td>\n",
              "      <td>1.66</td>\n",
              "    </tr>\n",
              "    <tr>\n",
              "      <th>2</th>\n",
              "      <td>Masculino</td>\n",
              "      <td>3.50</td>\n",
              "    </tr>\n",
              "    <tr>\n",
              "      <th>3</th>\n",
              "      <td>Masculino</td>\n",
              "      <td>3.31</td>\n",
              "    </tr>\n",
              "    <tr>\n",
              "      <th>4</th>\n",
              "      <td>Feminino</td>\n",
              "      <td>3.61</td>\n",
              "    </tr>\n",
              "    <tr>\n",
              "      <th>5</th>\n",
              "      <td>Masculino</td>\n",
              "      <td>4.71</td>\n",
              "    </tr>\n",
              "    <tr>\n",
              "      <th>6</th>\n",
              "      <td>Masculino</td>\n",
              "      <td>2.00</td>\n",
              "    </tr>\n",
              "    <tr>\n",
              "      <th>7</th>\n",
              "      <td>Masculino</td>\n",
              "      <td>3.12</td>\n",
              "    </tr>\n",
              "    <tr>\n",
              "      <th>8</th>\n",
              "      <td>Masculino</td>\n",
              "      <td>1.96</td>\n",
              "    </tr>\n",
              "    <tr>\n",
              "      <th>9</th>\n",
              "      <td>Masculino</td>\n",
              "      <td>3.23</td>\n",
              "    </tr>\n",
              "    <tr>\n",
              "      <th>10</th>\n",
              "      <td>Masculino</td>\n",
              "      <td>1.71</td>\n",
              "    </tr>\n",
              "    <tr>\n",
              "      <th>11</th>\n",
              "      <td>Feminino</td>\n",
              "      <td>5.00</td>\n",
              "    </tr>\n",
              "    <tr>\n",
              "      <th>12</th>\n",
              "      <td>Masculino</td>\n",
              "      <td>1.57</td>\n",
              "    </tr>\n",
              "    <tr>\n",
              "      <th>13</th>\n",
              "      <td>Masculino</td>\n",
              "      <td>3.00</td>\n",
              "    </tr>\n",
              "    <tr>\n",
              "      <th>14</th>\n",
              "      <td>Feminino</td>\n",
              "      <td>3.02</td>\n",
              "    </tr>\n",
              "    <tr>\n",
              "      <th>15</th>\n",
              "      <td>Masculino</td>\n",
              "      <td>3.92</td>\n",
              "    </tr>\n",
              "    <tr>\n",
              "      <th>16</th>\n",
              "      <td>Feminino</td>\n",
              "      <td>1.67</td>\n",
              "    </tr>\n",
              "    <tr>\n",
              "      <th>17</th>\n",
              "      <td>Masculino</td>\n",
              "      <td>3.71</td>\n",
              "    </tr>\n",
              "    <tr>\n",
              "      <th>18</th>\n",
              "      <td>Feminino</td>\n",
              "      <td>3.50</td>\n",
              "    </tr>\n",
              "    <tr>\n",
              "      <th>19</th>\n",
              "      <td>Masculino</td>\n",
              "      <td>3.35</td>\n",
              "    </tr>\n",
              "    <tr>\n",
              "      <th>20</th>\n",
              "      <td>Masculino</td>\n",
              "      <td>4.08</td>\n",
              "    </tr>\n",
              "    <tr>\n",
              "      <th>21</th>\n",
              "      <td>Feminino</td>\n",
              "      <td>2.75</td>\n",
              "    </tr>\n",
              "    <tr>\n",
              "      <th>22</th>\n",
              "      <td>Feminino</td>\n",
              "      <td>2.23</td>\n",
              "    </tr>\n",
              "    <tr>\n",
              "      <th>23</th>\n",
              "      <td>Masculino</td>\n",
              "      <td>7.58</td>\n",
              "    </tr>\n",
              "    <tr>\n",
              "      <th>24</th>\n",
              "      <td>Masculino</td>\n",
              "      <td>3.18</td>\n",
              "    </tr>\n",
              "    <tr>\n",
              "      <th>25</th>\n",
              "      <td>Masculino</td>\n",
              "      <td>2.34</td>\n",
              "    </tr>\n",
              "    <tr>\n",
              "      <th>26</th>\n",
              "      <td>Masculino</td>\n",
              "      <td>2.00</td>\n",
              "    </tr>\n",
              "    <tr>\n",
              "      <th>27</th>\n",
              "      <td>Masculino</td>\n",
              "      <td>2.00</td>\n",
              "    </tr>\n",
              "    <tr>\n",
              "      <th>28</th>\n",
              "      <td>Masculino</td>\n",
              "      <td>4.30</td>\n",
              "    </tr>\n",
              "    <tr>\n",
              "      <th>29</th>\n",
              "      <td>Feminino</td>\n",
              "      <td>3.00</td>\n",
              "    </tr>\n",
              "    <tr>\n",
              "      <th>...</th>\n",
              "      <td>...</td>\n",
              "      <td>...</td>\n",
              "    </tr>\n",
              "    <tr>\n",
              "      <th>214</th>\n",
              "      <td>Feminino</td>\n",
              "      <td>6.50</td>\n",
              "    </tr>\n",
              "    <tr>\n",
              "      <th>215</th>\n",
              "      <td>Feminino</td>\n",
              "      <td>1.10</td>\n",
              "    </tr>\n",
              "    <tr>\n",
              "      <th>216</th>\n",
              "      <td>Masculino</td>\n",
              "      <td>3.00</td>\n",
              "    </tr>\n",
              "    <tr>\n",
              "      <th>217</th>\n",
              "      <td>Masculino</td>\n",
              "      <td>1.50</td>\n",
              "    </tr>\n",
              "    <tr>\n",
              "      <th>218</th>\n",
              "      <td>Masculino</td>\n",
              "      <td>1.44</td>\n",
              "    </tr>\n",
              "    <tr>\n",
              "      <th>219</th>\n",
              "      <td>Feminino</td>\n",
              "      <td>3.09</td>\n",
              "    </tr>\n",
              "    <tr>\n",
              "      <th>220</th>\n",
              "      <td>Masculino</td>\n",
              "      <td>2.20</td>\n",
              "    </tr>\n",
              "    <tr>\n",
              "      <th>221</th>\n",
              "      <td>Feminino</td>\n",
              "      <td>3.48</td>\n",
              "    </tr>\n",
              "    <tr>\n",
              "      <th>222</th>\n",
              "      <td>Masculino</td>\n",
              "      <td>1.92</td>\n",
              "    </tr>\n",
              "    <tr>\n",
              "      <th>223</th>\n",
              "      <td>Feminino</td>\n",
              "      <td>3.00</td>\n",
              "    </tr>\n",
              "    <tr>\n",
              "      <th>224</th>\n",
              "      <td>Masculino</td>\n",
              "      <td>1.58</td>\n",
              "    </tr>\n",
              "    <tr>\n",
              "      <th>225</th>\n",
              "      <td>Feminino</td>\n",
              "      <td>2.50</td>\n",
              "    </tr>\n",
              "    <tr>\n",
              "      <th>226</th>\n",
              "      <td>Feminino</td>\n",
              "      <td>2.00</td>\n",
              "    </tr>\n",
              "    <tr>\n",
              "      <th>227</th>\n",
              "      <td>Masculino</td>\n",
              "      <td>3.00</td>\n",
              "    </tr>\n",
              "    <tr>\n",
              "      <th>228</th>\n",
              "      <td>Masculino</td>\n",
              "      <td>2.72</td>\n",
              "    </tr>\n",
              "    <tr>\n",
              "      <th>229</th>\n",
              "      <td>Feminino</td>\n",
              "      <td>2.88</td>\n",
              "    </tr>\n",
              "    <tr>\n",
              "      <th>230</th>\n",
              "      <td>Masculino</td>\n",
              "      <td>2.00</td>\n",
              "    </tr>\n",
              "    <tr>\n",
              "      <th>231</th>\n",
              "      <td>Masculino</td>\n",
              "      <td>3.00</td>\n",
              "    </tr>\n",
              "    <tr>\n",
              "      <th>232</th>\n",
              "      <td>Masculino</td>\n",
              "      <td>3.39</td>\n",
              "    </tr>\n",
              "    <tr>\n",
              "      <th>233</th>\n",
              "      <td>Masculino</td>\n",
              "      <td>1.47</td>\n",
              "    </tr>\n",
              "    <tr>\n",
              "      <th>234</th>\n",
              "      <td>Masculino</td>\n",
              "      <td>3.00</td>\n",
              "    </tr>\n",
              "    <tr>\n",
              "      <th>235</th>\n",
              "      <td>Masculino</td>\n",
              "      <td>1.25</td>\n",
              "    </tr>\n",
              "    <tr>\n",
              "      <th>236</th>\n",
              "      <td>Masculino</td>\n",
              "      <td>1.00</td>\n",
              "    </tr>\n",
              "    <tr>\n",
              "      <th>237</th>\n",
              "      <td>Masculino</td>\n",
              "      <td>1.17</td>\n",
              "    </tr>\n",
              "    <tr>\n",
              "      <th>238</th>\n",
              "      <td>Feminino</td>\n",
              "      <td>4.67</td>\n",
              "    </tr>\n",
              "    <tr>\n",
              "      <th>239</th>\n",
              "      <td>Masculino</td>\n",
              "      <td>5.92</td>\n",
              "    </tr>\n",
              "    <tr>\n",
              "      <th>240</th>\n",
              "      <td>Feminino</td>\n",
              "      <td>2.00</td>\n",
              "    </tr>\n",
              "    <tr>\n",
              "      <th>241</th>\n",
              "      <td>Masculino</td>\n",
              "      <td>2.00</td>\n",
              "    </tr>\n",
              "    <tr>\n",
              "      <th>242</th>\n",
              "      <td>Masculino</td>\n",
              "      <td>1.75</td>\n",
              "    </tr>\n",
              "    <tr>\n",
              "      <th>243</th>\n",
              "      <td>Feminino</td>\n",
              "      <td>3.00</td>\n",
              "    </tr>\n",
              "  </tbody>\n",
              "</table>\n",
              "<p>244 rows × 2 columns</p>\n",
              "</div>"
            ],
            "text/plain": [
              "        genero  gorjeta\n",
              "0     Feminino     1.01\n",
              "1    Masculino     1.66\n",
              "2    Masculino     3.50\n",
              "3    Masculino     3.31\n",
              "4     Feminino     3.61\n",
              "5    Masculino     4.71\n",
              "6    Masculino     2.00\n",
              "7    Masculino     3.12\n",
              "8    Masculino     1.96\n",
              "9    Masculino     3.23\n",
              "10   Masculino     1.71\n",
              "11    Feminino     5.00\n",
              "12   Masculino     1.57\n",
              "13   Masculino     3.00\n",
              "14    Feminino     3.02\n",
              "15   Masculino     3.92\n",
              "16    Feminino     1.67\n",
              "17   Masculino     3.71\n",
              "18    Feminino     3.50\n",
              "19   Masculino     3.35\n",
              "20   Masculino     4.08\n",
              "21    Feminino     2.75\n",
              "22    Feminino     2.23\n",
              "23   Masculino     7.58\n",
              "24   Masculino     3.18\n",
              "25   Masculino     2.34\n",
              "26   Masculino     2.00\n",
              "27   Masculino     2.00\n",
              "28   Masculino     4.30\n",
              "29    Feminino     3.00\n",
              "..         ...      ...\n",
              "214   Feminino     6.50\n",
              "215   Feminino     1.10\n",
              "216  Masculino     3.00\n",
              "217  Masculino     1.50\n",
              "218  Masculino     1.44\n",
              "219   Feminino     3.09\n",
              "220  Masculino     2.20\n",
              "221   Feminino     3.48\n",
              "222  Masculino     1.92\n",
              "223   Feminino     3.00\n",
              "224  Masculino     1.58\n",
              "225   Feminino     2.50\n",
              "226   Feminino     2.00\n",
              "227  Masculino     3.00\n",
              "228  Masculino     2.72\n",
              "229   Feminino     2.88\n",
              "230  Masculino     2.00\n",
              "231  Masculino     3.00\n",
              "232  Masculino     3.39\n",
              "233  Masculino     1.47\n",
              "234  Masculino     3.00\n",
              "235  Masculino     1.25\n",
              "236  Masculino     1.00\n",
              "237  Masculino     1.17\n",
              "238   Feminino     4.67\n",
              "239  Masculino     5.92\n",
              "240   Feminino     2.00\n",
              "241  Masculino     2.00\n",
              "242  Masculino     1.75\n",
              "243   Feminino     3.00\n",
              "\n",
              "[244 rows x 2 columns]"
            ]
          },
          "metadata": {
            "tags": []
          },
          "execution_count": 17
        }
      ]
    },
    {
      "cell_type": "code",
      "metadata": {
        "id": "mw4W3imRSLFe",
        "colab_type": "code",
        "outputId": "dcbd2499-a8f6-44a8-d680-b01982e5115c",
        "colab": {
          "base_uri": "https://localhost:8080/",
          "height": 1000
        }
      },
      "source": [
        "#Filtre o dataframe com as linhas das clientes mulheres\n",
        "tips_data[tips_data['genero'] == 'Feminino']"
      ],
      "execution_count": 0,
      "outputs": [
        {
          "output_type": "execute_result",
          "data": {
            "text/html": [
              "<div>\n",
              "<style scoped>\n",
              "    .dataframe tbody tr th:only-of-type {\n",
              "        vertical-align: middle;\n",
              "    }\n",
              "\n",
              "    .dataframe tbody tr th {\n",
              "        vertical-align: top;\n",
              "    }\n",
              "\n",
              "    .dataframe thead th {\n",
              "        text-align: right;\n",
              "    }\n",
              "</style>\n",
              "<table border=\"1\" class=\"dataframe\">\n",
              "  <thead>\n",
              "    <tr style=\"text-align: right;\">\n",
              "      <th></th>\n",
              "      <th>total_conta</th>\n",
              "      <th>gorjeta</th>\n",
              "      <th>genero</th>\n",
              "      <th>fumante</th>\n",
              "      <th>dia</th>\n",
              "      <th>horario</th>\n",
              "      <th>pessoas_mesa</th>\n",
              "      <th>tempo_permanencia</th>\n",
              "    </tr>\n",
              "  </thead>\n",
              "  <tbody>\n",
              "    <tr>\n",
              "      <th>0</th>\n",
              "      <td>16.99</td>\n",
              "      <td>1.01</td>\n",
              "      <td>Feminino</td>\n",
              "      <td>nao</td>\n",
              "      <td>dom</td>\n",
              "      <td>jantar</td>\n",
              "      <td>2</td>\n",
              "      <td>41</td>\n",
              "    </tr>\n",
              "    <tr>\n",
              "      <th>4</th>\n",
              "      <td>24.59</td>\n",
              "      <td>3.61</td>\n",
              "      <td>Feminino</td>\n",
              "      <td>nao</td>\n",
              "      <td>dom</td>\n",
              "      <td>jantar</td>\n",
              "      <td>4</td>\n",
              "      <td>34</td>\n",
              "    </tr>\n",
              "    <tr>\n",
              "      <th>11</th>\n",
              "      <td>35.26</td>\n",
              "      <td>5.00</td>\n",
              "      <td>Feminino</td>\n",
              "      <td>nao</td>\n",
              "      <td>dom</td>\n",
              "      <td>jantar</td>\n",
              "      <td>4</td>\n",
              "      <td>38</td>\n",
              "    </tr>\n",
              "    <tr>\n",
              "      <th>14</th>\n",
              "      <td>14.83</td>\n",
              "      <td>3.02</td>\n",
              "      <td>Feminino</td>\n",
              "      <td>nao</td>\n",
              "      <td>dom</td>\n",
              "      <td>jantar</td>\n",
              "      <td>2</td>\n",
              "      <td>42</td>\n",
              "    </tr>\n",
              "    <tr>\n",
              "      <th>16</th>\n",
              "      <td>10.33</td>\n",
              "      <td>1.67</td>\n",
              "      <td>Feminino</td>\n",
              "      <td>nao</td>\n",
              "      <td>dom</td>\n",
              "      <td>jantar</td>\n",
              "      <td>3</td>\n",
              "      <td>35</td>\n",
              "    </tr>\n",
              "    <tr>\n",
              "      <th>18</th>\n",
              "      <td>16.97</td>\n",
              "      <td>3.50</td>\n",
              "      <td>Feminino</td>\n",
              "      <td>nao</td>\n",
              "      <td>dom</td>\n",
              "      <td>jantar</td>\n",
              "      <td>3</td>\n",
              "      <td>48</td>\n",
              "    </tr>\n",
              "    <tr>\n",
              "      <th>21</th>\n",
              "      <td>20.29</td>\n",
              "      <td>2.75</td>\n",
              "      <td>Feminino</td>\n",
              "      <td>nao</td>\n",
              "      <td>sab</td>\n",
              "      <td>jantar</td>\n",
              "      <td>2</td>\n",
              "      <td>44</td>\n",
              "    </tr>\n",
              "    <tr>\n",
              "      <th>22</th>\n",
              "      <td>15.77</td>\n",
              "      <td>2.23</td>\n",
              "      <td>Feminino</td>\n",
              "      <td>nao</td>\n",
              "      <td>sab</td>\n",
              "      <td>jantar</td>\n",
              "      <td>2</td>\n",
              "      <td>50</td>\n",
              "    </tr>\n",
              "    <tr>\n",
              "      <th>29</th>\n",
              "      <td>19.65</td>\n",
              "      <td>3.00</td>\n",
              "      <td>Feminino</td>\n",
              "      <td>nao</td>\n",
              "      <td>sab</td>\n",
              "      <td>jantar</td>\n",
              "      <td>2</td>\n",
              "      <td>37</td>\n",
              "    </tr>\n",
              "    <tr>\n",
              "      <th>32</th>\n",
              "      <td>15.06</td>\n",
              "      <td>3.00</td>\n",
              "      <td>Feminino</td>\n",
              "      <td>nao</td>\n",
              "      <td>sab</td>\n",
              "      <td>jantar</td>\n",
              "      <td>2</td>\n",
              "      <td>42</td>\n",
              "    </tr>\n",
              "    <tr>\n",
              "      <th>33</th>\n",
              "      <td>20.69</td>\n",
              "      <td>2.45</td>\n",
              "      <td>Feminino</td>\n",
              "      <td>nao</td>\n",
              "      <td>sab</td>\n",
              "      <td>jantar</td>\n",
              "      <td>4</td>\n",
              "      <td>42</td>\n",
              "    </tr>\n",
              "    <tr>\n",
              "      <th>37</th>\n",
              "      <td>16.93</td>\n",
              "      <td>3.07</td>\n",
              "      <td>Feminino</td>\n",
              "      <td>nao</td>\n",
              "      <td>sab</td>\n",
              "      <td>jantar</td>\n",
              "      <td>3</td>\n",
              "      <td>41</td>\n",
              "    </tr>\n",
              "    <tr>\n",
              "      <th>51</th>\n",
              "      <td>10.29</td>\n",
              "      <td>2.60</td>\n",
              "      <td>Feminino</td>\n",
              "      <td>nao</td>\n",
              "      <td>dom</td>\n",
              "      <td>jantar</td>\n",
              "      <td>2</td>\n",
              "      <td>42</td>\n",
              "    </tr>\n",
              "    <tr>\n",
              "      <th>52</th>\n",
              "      <td>34.81</td>\n",
              "      <td>5.20</td>\n",
              "      <td>Feminino</td>\n",
              "      <td>nao</td>\n",
              "      <td>dom</td>\n",
              "      <td>jantar</td>\n",
              "      <td>4</td>\n",
              "      <td>40</td>\n",
              "    </tr>\n",
              "    <tr>\n",
              "      <th>57</th>\n",
              "      <td>26.41</td>\n",
              "      <td>1.50</td>\n",
              "      <td>Feminino</td>\n",
              "      <td>nao</td>\n",
              "      <td>sab</td>\n",
              "      <td>jantar</td>\n",
              "      <td>2</td>\n",
              "      <td>34</td>\n",
              "    </tr>\n",
              "    <tr>\n",
              "      <th>66</th>\n",
              "      <td>16.45</td>\n",
              "      <td>2.47</td>\n",
              "      <td>Feminino</td>\n",
              "      <td>nao</td>\n",
              "      <td>sab</td>\n",
              "      <td>jantar</td>\n",
              "      <td>2</td>\n",
              "      <td>38</td>\n",
              "    </tr>\n",
              "    <tr>\n",
              "      <th>67</th>\n",
              "      <td>3.07</td>\n",
              "      <td>1.00</td>\n",
              "      <td>Feminino</td>\n",
              "      <td>sim</td>\n",
              "      <td>sab</td>\n",
              "      <td>jantar</td>\n",
              "      <td>1</td>\n",
              "      <td>48</td>\n",
              "    </tr>\n",
              "    <tr>\n",
              "      <th>71</th>\n",
              "      <td>17.07</td>\n",
              "      <td>3.00</td>\n",
              "      <td>Feminino</td>\n",
              "      <td>nao</td>\n",
              "      <td>sab</td>\n",
              "      <td>jantar</td>\n",
              "      <td>3</td>\n",
              "      <td>45</td>\n",
              "    </tr>\n",
              "    <tr>\n",
              "      <th>72</th>\n",
              "      <td>26.86</td>\n",
              "      <td>3.14</td>\n",
              "      <td>Feminino</td>\n",
              "      <td>sim</td>\n",
              "      <td>sab</td>\n",
              "      <td>jantar</td>\n",
              "      <td>2</td>\n",
              "      <td>43</td>\n",
              "    </tr>\n",
              "    <tr>\n",
              "      <th>73</th>\n",
              "      <td>25.28</td>\n",
              "      <td>5.00</td>\n",
              "      <td>Feminino</td>\n",
              "      <td>sim</td>\n",
              "      <td>sab</td>\n",
              "      <td>jantar</td>\n",
              "      <td>2</td>\n",
              "      <td>35</td>\n",
              "    </tr>\n",
              "    <tr>\n",
              "      <th>74</th>\n",
              "      <td>14.73</td>\n",
              "      <td>2.20</td>\n",
              "      <td>Feminino</td>\n",
              "      <td>nao</td>\n",
              "      <td>sab</td>\n",
              "      <td>jantar</td>\n",
              "      <td>2</td>\n",
              "      <td>43</td>\n",
              "    </tr>\n",
              "    <tr>\n",
              "      <th>82</th>\n",
              "      <td>10.07</td>\n",
              "      <td>1.83</td>\n",
              "      <td>Feminino</td>\n",
              "      <td>nao</td>\n",
              "      <td>qui</td>\n",
              "      <td>almoco</td>\n",
              "      <td>1</td>\n",
              "      <td>41</td>\n",
              "    </tr>\n",
              "    <tr>\n",
              "      <th>85</th>\n",
              "      <td>34.83</td>\n",
              "      <td>5.17</td>\n",
              "      <td>Feminino</td>\n",
              "      <td>nao</td>\n",
              "      <td>qui</td>\n",
              "      <td>almoco</td>\n",
              "      <td>4</td>\n",
              "      <td>41</td>\n",
              "    </tr>\n",
              "    <tr>\n",
              "      <th>92</th>\n",
              "      <td>5.75</td>\n",
              "      <td>1.00</td>\n",
              "      <td>Feminino</td>\n",
              "      <td>sim</td>\n",
              "      <td>sex</td>\n",
              "      <td>jantar</td>\n",
              "      <td>2</td>\n",
              "      <td>46</td>\n",
              "    </tr>\n",
              "    <tr>\n",
              "      <th>93</th>\n",
              "      <td>16.32</td>\n",
              "      <td>4.30</td>\n",
              "      <td>Feminino</td>\n",
              "      <td>sim</td>\n",
              "      <td>sex</td>\n",
              "      <td>jantar</td>\n",
              "      <td>2</td>\n",
              "      <td>36</td>\n",
              "    </tr>\n",
              "    <tr>\n",
              "      <th>94</th>\n",
              "      <td>22.75</td>\n",
              "      <td>3.25</td>\n",
              "      <td>Feminino</td>\n",
              "      <td>nao</td>\n",
              "      <td>sex</td>\n",
              "      <td>jantar</td>\n",
              "      <td>2</td>\n",
              "      <td>38</td>\n",
              "    </tr>\n",
              "    <tr>\n",
              "      <th>100</th>\n",
              "      <td>11.35</td>\n",
              "      <td>2.50</td>\n",
              "      <td>Feminino</td>\n",
              "      <td>sim</td>\n",
              "      <td>sex</td>\n",
              "      <td>jantar</td>\n",
              "      <td>2</td>\n",
              "      <td>46</td>\n",
              "    </tr>\n",
              "    <tr>\n",
              "      <th>101</th>\n",
              "      <td>15.38</td>\n",
              "      <td>3.00</td>\n",
              "      <td>Feminino</td>\n",
              "      <td>sim</td>\n",
              "      <td>sex</td>\n",
              "      <td>jantar</td>\n",
              "      <td>2</td>\n",
              "      <td>47</td>\n",
              "    </tr>\n",
              "    <tr>\n",
              "      <th>102</th>\n",
              "      <td>44.30</td>\n",
              "      <td>2.50</td>\n",
              "      <td>Feminino</td>\n",
              "      <td>sim</td>\n",
              "      <td>sab</td>\n",
              "      <td>jantar</td>\n",
              "      <td>3</td>\n",
              "      <td>45</td>\n",
              "    </tr>\n",
              "    <tr>\n",
              "      <th>103</th>\n",
              "      <td>22.42</td>\n",
              "      <td>3.48</td>\n",
              "      <td>Feminino</td>\n",
              "      <td>sim</td>\n",
              "      <td>sab</td>\n",
              "      <td>jantar</td>\n",
              "      <td>2</td>\n",
              "      <td>45</td>\n",
              "    </tr>\n",
              "    <tr>\n",
              "      <th>...</th>\n",
              "      <td>...</td>\n",
              "      <td>...</td>\n",
              "      <td>...</td>\n",
              "      <td>...</td>\n",
              "      <td>...</td>\n",
              "      <td>...</td>\n",
              "      <td>...</td>\n",
              "      <td>...</td>\n",
              "    </tr>\n",
              "    <tr>\n",
              "      <th>155</th>\n",
              "      <td>29.85</td>\n",
              "      <td>5.14</td>\n",
              "      <td>Feminino</td>\n",
              "      <td>nao</td>\n",
              "      <td>dom</td>\n",
              "      <td>jantar</td>\n",
              "      <td>5</td>\n",
              "      <td>38</td>\n",
              "    </tr>\n",
              "    <tr>\n",
              "      <th>157</th>\n",
              "      <td>25.00</td>\n",
              "      <td>3.75</td>\n",
              "      <td>Feminino</td>\n",
              "      <td>nao</td>\n",
              "      <td>dom</td>\n",
              "      <td>jantar</td>\n",
              "      <td>4</td>\n",
              "      <td>47</td>\n",
              "    </tr>\n",
              "    <tr>\n",
              "      <th>158</th>\n",
              "      <td>13.39</td>\n",
              "      <td>2.61</td>\n",
              "      <td>Feminino</td>\n",
              "      <td>nao</td>\n",
              "      <td>dom</td>\n",
              "      <td>jantar</td>\n",
              "      <td>2</td>\n",
              "      <td>40</td>\n",
              "    </tr>\n",
              "    <tr>\n",
              "      <th>162</th>\n",
              "      <td>16.21</td>\n",
              "      <td>2.00</td>\n",
              "      <td>Feminino</td>\n",
              "      <td>nao</td>\n",
              "      <td>dom</td>\n",
              "      <td>jantar</td>\n",
              "      <td>3</td>\n",
              "      <td>46</td>\n",
              "    </tr>\n",
              "    <tr>\n",
              "      <th>164</th>\n",
              "      <td>17.51</td>\n",
              "      <td>3.00</td>\n",
              "      <td>Feminino</td>\n",
              "      <td>sim</td>\n",
              "      <td>dom</td>\n",
              "      <td>jantar</td>\n",
              "      <td>2</td>\n",
              "      <td>39</td>\n",
              "    </tr>\n",
              "    <tr>\n",
              "      <th>168</th>\n",
              "      <td>10.59</td>\n",
              "      <td>1.61</td>\n",
              "      <td>Feminino</td>\n",
              "      <td>sim</td>\n",
              "      <td>sab</td>\n",
              "      <td>jantar</td>\n",
              "      <td>2</td>\n",
              "      <td>39</td>\n",
              "    </tr>\n",
              "    <tr>\n",
              "      <th>169</th>\n",
              "      <td>10.63</td>\n",
              "      <td>2.00</td>\n",
              "      <td>Feminino</td>\n",
              "      <td>sim</td>\n",
              "      <td>sab</td>\n",
              "      <td>jantar</td>\n",
              "      <td>2</td>\n",
              "      <td>29</td>\n",
              "    </tr>\n",
              "    <tr>\n",
              "      <th>178</th>\n",
              "      <td>9.60</td>\n",
              "      <td>4.00</td>\n",
              "      <td>Feminino</td>\n",
              "      <td>sim</td>\n",
              "      <td>dom</td>\n",
              "      <td>jantar</td>\n",
              "      <td>2</td>\n",
              "      <td>36</td>\n",
              "    </tr>\n",
              "    <tr>\n",
              "      <th>186</th>\n",
              "      <td>20.90</td>\n",
              "      <td>3.50</td>\n",
              "      <td>Feminino</td>\n",
              "      <td>sim</td>\n",
              "      <td>dom</td>\n",
              "      <td>jantar</td>\n",
              "      <td>3</td>\n",
              "      <td>34</td>\n",
              "    </tr>\n",
              "    <tr>\n",
              "      <th>188</th>\n",
              "      <td>18.15</td>\n",
              "      <td>3.50</td>\n",
              "      <td>Feminino</td>\n",
              "      <td>sim</td>\n",
              "      <td>dom</td>\n",
              "      <td>jantar</td>\n",
              "      <td>3</td>\n",
              "      <td>44</td>\n",
              "    </tr>\n",
              "    <tr>\n",
              "      <th>191</th>\n",
              "      <td>19.81</td>\n",
              "      <td>4.19</td>\n",
              "      <td>Feminino</td>\n",
              "      <td>sim</td>\n",
              "      <td>qui</td>\n",
              "      <td>almoco</td>\n",
              "      <td>2</td>\n",
              "      <td>32</td>\n",
              "    </tr>\n",
              "    <tr>\n",
              "      <th>197</th>\n",
              "      <td>43.11</td>\n",
              "      <td>5.00</td>\n",
              "      <td>Feminino</td>\n",
              "      <td>sim</td>\n",
              "      <td>qui</td>\n",
              "      <td>almoco</td>\n",
              "      <td>4</td>\n",
              "      <td>39</td>\n",
              "    </tr>\n",
              "    <tr>\n",
              "      <th>198</th>\n",
              "      <td>13.00</td>\n",
              "      <td>2.00</td>\n",
              "      <td>Feminino</td>\n",
              "      <td>sim</td>\n",
              "      <td>qui</td>\n",
              "      <td>almoco</td>\n",
              "      <td>2</td>\n",
              "      <td>40</td>\n",
              "    </tr>\n",
              "    <tr>\n",
              "      <th>201</th>\n",
              "      <td>12.74</td>\n",
              "      <td>2.01</td>\n",
              "      <td>Feminino</td>\n",
              "      <td>sim</td>\n",
              "      <td>qui</td>\n",
              "      <td>almoco</td>\n",
              "      <td>2</td>\n",
              "      <td>49</td>\n",
              "    </tr>\n",
              "    <tr>\n",
              "      <th>202</th>\n",
              "      <td>13.00</td>\n",
              "      <td>2.00</td>\n",
              "      <td>Feminino</td>\n",
              "      <td>sim</td>\n",
              "      <td>qui</td>\n",
              "      <td>almoco</td>\n",
              "      <td>2</td>\n",
              "      <td>43</td>\n",
              "    </tr>\n",
              "    <tr>\n",
              "      <th>203</th>\n",
              "      <td>16.40</td>\n",
              "      <td>2.50</td>\n",
              "      <td>Feminino</td>\n",
              "      <td>sim</td>\n",
              "      <td>qui</td>\n",
              "      <td>almoco</td>\n",
              "      <td>2</td>\n",
              "      <td>53</td>\n",
              "    </tr>\n",
              "    <tr>\n",
              "      <th>205</th>\n",
              "      <td>16.47</td>\n",
              "      <td>3.23</td>\n",
              "      <td>Feminino</td>\n",
              "      <td>sim</td>\n",
              "      <td>qui</td>\n",
              "      <td>almoco</td>\n",
              "      <td>3</td>\n",
              "      <td>43</td>\n",
              "    </tr>\n",
              "    <tr>\n",
              "      <th>209</th>\n",
              "      <td>12.76</td>\n",
              "      <td>2.23</td>\n",
              "      <td>Feminino</td>\n",
              "      <td>sim</td>\n",
              "      <td>sab</td>\n",
              "      <td>jantar</td>\n",
              "      <td>2</td>\n",
              "      <td>45</td>\n",
              "    </tr>\n",
              "    <tr>\n",
              "      <th>213</th>\n",
              "      <td>13.27</td>\n",
              "      <td>2.50</td>\n",
              "      <td>Feminino</td>\n",
              "      <td>sim</td>\n",
              "      <td>sab</td>\n",
              "      <td>jantar</td>\n",
              "      <td>2</td>\n",
              "      <td>46</td>\n",
              "    </tr>\n",
              "    <tr>\n",
              "      <th>214</th>\n",
              "      <td>28.17</td>\n",
              "      <td>6.50</td>\n",
              "      <td>Feminino</td>\n",
              "      <td>sim</td>\n",
              "      <td>sab</td>\n",
              "      <td>jantar</td>\n",
              "      <td>3</td>\n",
              "      <td>38</td>\n",
              "    </tr>\n",
              "    <tr>\n",
              "      <th>215</th>\n",
              "      <td>12.90</td>\n",
              "      <td>1.10</td>\n",
              "      <td>Feminino</td>\n",
              "      <td>sim</td>\n",
              "      <td>sab</td>\n",
              "      <td>jantar</td>\n",
              "      <td>2</td>\n",
              "      <td>38</td>\n",
              "    </tr>\n",
              "    <tr>\n",
              "      <th>219</th>\n",
              "      <td>30.14</td>\n",
              "      <td>3.09</td>\n",
              "      <td>Feminino</td>\n",
              "      <td>sim</td>\n",
              "      <td>sab</td>\n",
              "      <td>jantar</td>\n",
              "      <td>4</td>\n",
              "      <td>41</td>\n",
              "    </tr>\n",
              "    <tr>\n",
              "      <th>221</th>\n",
              "      <td>13.42</td>\n",
              "      <td>3.48</td>\n",
              "      <td>Feminino</td>\n",
              "      <td>sim</td>\n",
              "      <td>sex</td>\n",
              "      <td>almoco</td>\n",
              "      <td>2</td>\n",
              "      <td>41</td>\n",
              "    </tr>\n",
              "    <tr>\n",
              "      <th>223</th>\n",
              "      <td>15.98</td>\n",
              "      <td>3.00</td>\n",
              "      <td>Feminino</td>\n",
              "      <td>nao</td>\n",
              "      <td>sex</td>\n",
              "      <td>almoco</td>\n",
              "      <td>3</td>\n",
              "      <td>40</td>\n",
              "    </tr>\n",
              "    <tr>\n",
              "      <th>225</th>\n",
              "      <td>16.27</td>\n",
              "      <td>2.50</td>\n",
              "      <td>Feminino</td>\n",
              "      <td>sim</td>\n",
              "      <td>sex</td>\n",
              "      <td>almoco</td>\n",
              "      <td>2</td>\n",
              "      <td>50</td>\n",
              "    </tr>\n",
              "    <tr>\n",
              "      <th>226</th>\n",
              "      <td>10.09</td>\n",
              "      <td>2.00</td>\n",
              "      <td>Feminino</td>\n",
              "      <td>sim</td>\n",
              "      <td>sex</td>\n",
              "      <td>almoco</td>\n",
              "      <td>2</td>\n",
              "      <td>51</td>\n",
              "    </tr>\n",
              "    <tr>\n",
              "      <th>229</th>\n",
              "      <td>22.12</td>\n",
              "      <td>2.88</td>\n",
              "      <td>Feminino</td>\n",
              "      <td>sim</td>\n",
              "      <td>sab</td>\n",
              "      <td>jantar</td>\n",
              "      <td>2</td>\n",
              "      <td>42</td>\n",
              "    </tr>\n",
              "    <tr>\n",
              "      <th>238</th>\n",
              "      <td>35.83</td>\n",
              "      <td>4.67</td>\n",
              "      <td>Feminino</td>\n",
              "      <td>nao</td>\n",
              "      <td>sab</td>\n",
              "      <td>jantar</td>\n",
              "      <td>3</td>\n",
              "      <td>42</td>\n",
              "    </tr>\n",
              "    <tr>\n",
              "      <th>240</th>\n",
              "      <td>27.18</td>\n",
              "      <td>2.00</td>\n",
              "      <td>Feminino</td>\n",
              "      <td>sim</td>\n",
              "      <td>sab</td>\n",
              "      <td>jantar</td>\n",
              "      <td>2</td>\n",
              "      <td>35</td>\n",
              "    </tr>\n",
              "    <tr>\n",
              "      <th>243</th>\n",
              "      <td>18.78</td>\n",
              "      <td>3.00</td>\n",
              "      <td>Feminino</td>\n",
              "      <td>nao</td>\n",
              "      <td>qui</td>\n",
              "      <td>jantar</td>\n",
              "      <td>2</td>\n",
              "      <td>40</td>\n",
              "    </tr>\n",
              "  </tbody>\n",
              "</table>\n",
              "<p>87 rows × 8 columns</p>\n",
              "</div>"
            ],
            "text/plain": [
              "     total_conta  gorjeta    genero  ... horario pessoas_mesa tempo_permanencia\n",
              "0          16.99     1.01  Feminino  ...  jantar            2                41\n",
              "4          24.59     3.61  Feminino  ...  jantar            4                34\n",
              "11         35.26     5.00  Feminino  ...  jantar            4                38\n",
              "14         14.83     3.02  Feminino  ...  jantar            2                42\n",
              "16         10.33     1.67  Feminino  ...  jantar            3                35\n",
              "18         16.97     3.50  Feminino  ...  jantar            3                48\n",
              "21         20.29     2.75  Feminino  ...  jantar            2                44\n",
              "22         15.77     2.23  Feminino  ...  jantar            2                50\n",
              "29         19.65     3.00  Feminino  ...  jantar            2                37\n",
              "32         15.06     3.00  Feminino  ...  jantar            2                42\n",
              "33         20.69     2.45  Feminino  ...  jantar            4                42\n",
              "37         16.93     3.07  Feminino  ...  jantar            3                41\n",
              "51         10.29     2.60  Feminino  ...  jantar            2                42\n",
              "52         34.81     5.20  Feminino  ...  jantar            4                40\n",
              "57         26.41     1.50  Feminino  ...  jantar            2                34\n",
              "66         16.45     2.47  Feminino  ...  jantar            2                38\n",
              "67          3.07     1.00  Feminino  ...  jantar            1                48\n",
              "71         17.07     3.00  Feminino  ...  jantar            3                45\n",
              "72         26.86     3.14  Feminino  ...  jantar            2                43\n",
              "73         25.28     5.00  Feminino  ...  jantar            2                35\n",
              "74         14.73     2.20  Feminino  ...  jantar            2                43\n",
              "82         10.07     1.83  Feminino  ...  almoco            1                41\n",
              "85         34.83     5.17  Feminino  ...  almoco            4                41\n",
              "92          5.75     1.00  Feminino  ...  jantar            2                46\n",
              "93         16.32     4.30  Feminino  ...  jantar            2                36\n",
              "94         22.75     3.25  Feminino  ...  jantar            2                38\n",
              "100        11.35     2.50  Feminino  ...  jantar            2                46\n",
              "101        15.38     3.00  Feminino  ...  jantar            2                47\n",
              "102        44.30     2.50  Feminino  ...  jantar            3                45\n",
              "103        22.42     3.48  Feminino  ...  jantar            2                45\n",
              "..           ...      ...       ...  ...     ...          ...               ...\n",
              "155        29.85     5.14  Feminino  ...  jantar            5                38\n",
              "157        25.00     3.75  Feminino  ...  jantar            4                47\n",
              "158        13.39     2.61  Feminino  ...  jantar            2                40\n",
              "162        16.21     2.00  Feminino  ...  jantar            3                46\n",
              "164        17.51     3.00  Feminino  ...  jantar            2                39\n",
              "168        10.59     1.61  Feminino  ...  jantar            2                39\n",
              "169        10.63     2.00  Feminino  ...  jantar            2                29\n",
              "178         9.60     4.00  Feminino  ...  jantar            2                36\n",
              "186        20.90     3.50  Feminino  ...  jantar            3                34\n",
              "188        18.15     3.50  Feminino  ...  jantar            3                44\n",
              "191        19.81     4.19  Feminino  ...  almoco            2                32\n",
              "197        43.11     5.00  Feminino  ...  almoco            4                39\n",
              "198        13.00     2.00  Feminino  ...  almoco            2                40\n",
              "201        12.74     2.01  Feminino  ...  almoco            2                49\n",
              "202        13.00     2.00  Feminino  ...  almoco            2                43\n",
              "203        16.40     2.50  Feminino  ...  almoco            2                53\n",
              "205        16.47     3.23  Feminino  ...  almoco            3                43\n",
              "209        12.76     2.23  Feminino  ...  jantar            2                45\n",
              "213        13.27     2.50  Feminino  ...  jantar            2                46\n",
              "214        28.17     6.50  Feminino  ...  jantar            3                38\n",
              "215        12.90     1.10  Feminino  ...  jantar            2                38\n",
              "219        30.14     3.09  Feminino  ...  jantar            4                41\n",
              "221        13.42     3.48  Feminino  ...  almoco            2                41\n",
              "223        15.98     3.00  Feminino  ...  almoco            3                40\n",
              "225        16.27     2.50  Feminino  ...  almoco            2                50\n",
              "226        10.09     2.00  Feminino  ...  almoco            2                51\n",
              "229        22.12     2.88  Feminino  ...  jantar            2                42\n",
              "238        35.83     4.67  Feminino  ...  jantar            3                42\n",
              "240        27.18     2.00  Feminino  ...  jantar            2                35\n",
              "243        18.78     3.00  Feminino  ...  jantar            2                40\n",
              "\n",
              "[87 rows x 8 columns]"
            ]
          },
          "metadata": {
            "tags": []
          },
          "execution_count": 18
        }
      ]
    },
    {
      "cell_type": "code",
      "metadata": {
        "id": "ko9h0PyBXvJ0",
        "colab_type": "code",
        "outputId": "2a301778-6693-4908-9354-4e8a7db368b4",
        "colab": {
          "base_uri": "https://localhost:8080/",
          "height": 34
        }
      },
      "source": [
        "#Mostre a média de gorjetas\n",
        "tips_data['gorjeta'].mean()"
      ],
      "execution_count": 0,
      "outputs": [
        {
          "output_type": "execute_result",
          "data": {
            "text/plain": [
              "2.9982786885245902"
            ]
          },
          "metadata": {
            "tags": []
          },
          "execution_count": 22
        }
      ]
    },
    {
      "cell_type": "code",
      "metadata": {
        "id": "7YvcmV99YEod",
        "colab_type": "code",
        "outputId": "b323a126-0670-4795-a327-909dccc4e323",
        "colab": {
          "base_uri": "https://localhost:8080/",
          "height": 34
        }
      },
      "source": [
        "#Escolha uma coluna quantitativa e mostre a média\n",
        "tips_data['total_conta'].mean()"
      ],
      "execution_count": 0,
      "outputs": [
        {
          "output_type": "execute_result",
          "data": {
            "text/plain": [
              "19.785942622950824"
            ]
          },
          "metadata": {
            "tags": []
          },
          "execution_count": 24
        }
      ]
    },
    {
      "cell_type": "code",
      "metadata": {
        "id": "_nUkrtayYwRg",
        "colab_type": "code",
        "outputId": "b93712b0-4213-4d48-f11a-f30865935fea",
        "colab": {
          "base_uri": "https://localhost:8080/",
          "height": 102
        }
      },
      "source": [
        "#Mostrar a média de todas as colunas quantitativas ao mesmo tempo?\n",
        "tips_data[['total_conta','gorjeta','pessoas_mesa','tempo_permanencia']].mean()"
      ],
      "execution_count": 0,
      "outputs": [
        {
          "output_type": "execute_result",
          "data": {
            "text/plain": [
              "total_conta          19.785943\n",
              "gorjeta               2.998279\n",
              "pessoas_mesa          2.569672\n",
              "tempo_permanencia    40.262295\n",
              "dtype: float64"
            ]
          },
          "metadata": {
            "tags": []
          },
          "execution_count": 36
        }
      ]
    },
    {
      "cell_type": "code",
      "metadata": {
        "id": "l-uW2nJDxBoE",
        "colab_type": "code",
        "outputId": "b4e33622-eb6b-41c6-9105-ac78199d6094",
        "colab": {
          "base_uri": "https://localhost:8080/",
          "height": 51
        }
      },
      "source": [
        "#Quem mais frequenta o restaurante que estamos analisando, homens ou mulheres?\n",
        "tips_data['genero'].mode()"
      ],
      "execution_count": 0,
      "outputs": [
        {
          "output_type": "execute_result",
          "data": {
            "text/plain": [
              "0    Masculino\n",
              "dtype: object"
            ]
          },
          "metadata": {
            "tags": []
          },
          "execution_count": 37
        }
      ]
    },
    {
      "cell_type": "code",
      "metadata": {
        "id": "MzGpSS0uxm2b",
        "colab_type": "code",
        "outputId": "67ca1b62-6ae2-4d36-a3e7-457782965aea",
        "colab": {
          "base_uri": "https://localhost:8080/",
          "height": 51
        }
      },
      "source": [
        "#Qual é o dia preferido para os clientes irem ao restaurante?\n",
        "tips_data['dia'].mode()"
      ],
      "execution_count": 0,
      "outputs": [
        {
          "output_type": "execute_result",
          "data": {
            "text/plain": [
              "0    sab\n",
              "dtype: object"
            ]
          },
          "metadata": {
            "tags": []
          },
          "execution_count": 38
        }
      ]
    },
    {
      "cell_type": "code",
      "metadata": {
        "id": "Z2HNKiKLxx7K",
        "colab_type": "code",
        "outputId": "679d3ac3-4c10-431a-9a6e-c537e54d08a4",
        "colab": {
          "base_uri": "https://localhost:8080/",
          "height": 51
        }
      },
      "source": [
        "#Na maioria das vezes os clientes vão ao restaurante para almoçar ou para jantar?\n",
        "tips_data['horario'].mode()"
      ],
      "execution_count": 0,
      "outputs": [
        {
          "output_type": "execute_result",
          "data": {
            "text/plain": [
              "0    jantar\n",
              "dtype: object"
            ]
          },
          "metadata": {
            "tags": []
          },
          "execution_count": 39
        }
      ]
    },
    {
      "cell_type": "code",
      "metadata": {
        "id": "4YPjC6bYx_7G",
        "colab_type": "code",
        "outputId": "75a50efa-ff65-4174-c7e2-50129ddd7365",
        "colab": {
          "base_uri": "https://localhost:8080/",
          "height": 80
        }
      },
      "source": [
        "#Faça uma pergunta e responda utilizando a moda. \n",
        "#Se a maioria dos cliente sao fumantes, de qual genero, e dia da semana?\n",
        "tips_data[['fumante','genero','dia']].mode()"
      ],
      "execution_count": 0,
      "outputs": [
        {
          "output_type": "execute_result",
          "data": {
            "text/html": [
              "<div>\n",
              "<style scoped>\n",
              "    .dataframe tbody tr th:only-of-type {\n",
              "        vertical-align: middle;\n",
              "    }\n",
              "\n",
              "    .dataframe tbody tr th {\n",
              "        vertical-align: top;\n",
              "    }\n",
              "\n",
              "    .dataframe thead th {\n",
              "        text-align: right;\n",
              "    }\n",
              "</style>\n",
              "<table border=\"1\" class=\"dataframe\">\n",
              "  <thead>\n",
              "    <tr style=\"text-align: right;\">\n",
              "      <th></th>\n",
              "      <th>fumante</th>\n",
              "      <th>genero</th>\n",
              "      <th>dia</th>\n",
              "    </tr>\n",
              "  </thead>\n",
              "  <tbody>\n",
              "    <tr>\n",
              "      <th>0</th>\n",
              "      <td>nao</td>\n",
              "      <td>Masculino</td>\n",
              "      <td>sab</td>\n",
              "    </tr>\n",
              "  </tbody>\n",
              "</table>\n",
              "</div>"
            ],
            "text/plain": [
              "  fumante     genero  dia\n",
              "0     nao  Masculino  sab"
            ]
          },
          "metadata": {
            "tags": []
          },
          "execution_count": 45
        }
      ]
    },
    {
      "cell_type": "code",
      "metadata": {
        "id": "pUiACosc3gVa",
        "colab_type": "code",
        "outputId": "e4d0cff6-2fe5-4284-a2c5-939a969283fa",
        "colab": {
          "base_uri": "https://localhost:8080/",
          "height": 34
        }
      },
      "source": [
        "#Qual é a mediana das contas que os clientes pagam no restaurante?\n",
        "tips_data['total_conta'].median()"
      ],
      "execution_count": 0,
      "outputs": [
        {
          "output_type": "execute_result",
          "data": {
            "text/plain": [
              "17.795"
            ]
          },
          "metadata": {
            "tags": []
          },
          "execution_count": 47
        }
      ]
    },
    {
      "cell_type": "code",
      "metadata": {
        "id": "8tNR2vlI3tJu",
        "colab_type": "code",
        "outputId": "b90003e2-92ee-4044-b3ef-5749eba8650c",
        "colab": {
          "base_uri": "https://localhost:8080/",
          "height": 34
        }
      },
      "source": [
        "#Qual é a mediana das gorjetas que os clientes pagam no restaurante?\n",
        "tips_data['gorjeta'].median()"
      ],
      "execution_count": 0,
      "outputs": [
        {
          "output_type": "execute_result",
          "data": {
            "text/plain": [
              "2.9"
            ]
          },
          "metadata": {
            "tags": []
          },
          "execution_count": 48
        }
      ]
    },
    {
      "cell_type": "code",
      "metadata": {
        "id": "-CQ4R79m3w41",
        "colab_type": "code",
        "outputId": "c86d06d5-fd5d-416e-9546-4c2fbade33c9",
        "colab": {
          "base_uri": "https://localhost:8080/",
          "height": 34
        }
      },
      "source": [
        "#A mediana das contas é igual, maior ou menor do que a média das contas?\n",
        "tips_data['total_conta'].mean()"
      ],
      "execution_count": 0,
      "outputs": [
        {
          "output_type": "execute_result",
          "data": {
            "text/plain": [
              "19.785942622950824"
            ]
          },
          "metadata": {
            "tags": []
          },
          "execution_count": 57
        }
      ]
    },
    {
      "cell_type": "code",
      "metadata": {
        "id": "v1R6vxnn4DzS",
        "colab_type": "code",
        "outputId": "c12b0a2f-06d3-47e8-b428-c06d8c85e5d7",
        "colab": {
          "base_uri": "https://localhost:8080/",
          "height": 34
        }
      },
      "source": [
        "#Compare também a mediana e a média das gorjetas.\n",
        "tips_data['gorjeta'].mean()"
      ],
      "execution_count": 0,
      "outputs": [
        {
          "output_type": "execute_result",
          "data": {
            "text/plain": [
              "2.9982786885245902"
            ]
          },
          "metadata": {
            "tags": []
          },
          "execution_count": 59
        }
      ]
    },
    {
      "cell_type": "code",
      "metadata": {
        "id": "nGxg88m68a7z",
        "colab_type": "code",
        "outputId": "7bd0b094-43df-46ea-9682-5cf25485cab8",
        "colab": {
          "base_uri": "https://localhost:8080/",
          "height": 34
        }
      },
      "source": [
        "#Qual é a média do tempo que os clientes ficam no restaurante?\n",
        "tips_data['tempo_permanencia'].mean()"
      ],
      "execution_count": 0,
      "outputs": [
        {
          "output_type": "execute_result",
          "data": {
            "text/plain": [
              "40.26229508196721"
            ]
          },
          "metadata": {
            "tags": []
          },
          "execution_count": 61
        }
      ]
    },
    {
      "cell_type": "code",
      "metadata": {
        "id": "H9MdjCxU8r4V",
        "colab_type": "code",
        "outputId": "f0b20931-8685-44cb-9fce-5b48ff51f76b",
        "colab": {
          "base_uri": "https://localhost:8080/",
          "height": 34
        }
      },
      "source": [
        "#Qual é a mediana do tempo que os clientes ficam no restaurante?\n",
        "tips_data['tempo_permanencia'].median()"
      ],
      "execution_count": 0,
      "outputs": [
        {
          "output_type": "execute_result",
          "data": {
            "text/plain": [
              "40.0"
            ]
          },
          "metadata": {
            "tags": []
          },
          "execution_count": 62
        }
      ]
    },
    {
      "cell_type": "code",
      "metadata": {
        "id": "qpyZm1Kj80wo",
        "colab_type": "code",
        "outputId": "d188f766-a000-44c2-d903-6385398fba66",
        "colab": {
          "base_uri": "https://localhost:8080/",
          "height": 68
        }
      },
      "source": [
        "#Qual é a moda do tempo que os clientes ficam no restaurante?\n",
        "tips_data['tempo_permanencia'].mode()"
      ],
      "execution_count": 0,
      "outputs": [
        {
          "output_type": "execute_result",
          "data": {
            "text/plain": [
              "0    37\n",
              "1    38\n",
              "dtype: int64"
            ]
          },
          "metadata": {
            "tags": []
          },
          "execution_count": 64
        }
      ]
    },
    {
      "cell_type": "code",
      "metadata": {
        "id": "P7bgLtn3BFdO",
        "colab_type": "code",
        "outputId": "751ec4cd-9ab5-44cf-a21e-a18672b1805d",
        "colab": {
          "base_uri": "https://localhost:8080/",
          "height": 34
        }
      },
      "source": [
        "#Quais são os quartis das contas? (coluna total_contas)\n",
        "#Q1\n",
        "tips_data['total_conta'].quantile(.25)"
      ],
      "execution_count": 0,
      "outputs": [
        {
          "output_type": "execute_result",
          "data": {
            "text/plain": [
              "13.3475"
            ]
          },
          "metadata": {
            "tags": []
          },
          "execution_count": 75
        }
      ]
    },
    {
      "cell_type": "code",
      "metadata": {
        "id": "T3_e8EE5CG6s",
        "colab_type": "code",
        "outputId": "1b1bc8bd-89f4-4f9b-dfcb-62bf075796ee",
        "colab": {
          "base_uri": "https://localhost:8080/",
          "height": 34
        }
      },
      "source": [
        "#Q2\n",
        "tips_data['total_conta'].quantile(.50)"
      ],
      "execution_count": 0,
      "outputs": [
        {
          "output_type": "execute_result",
          "data": {
            "text/plain": [
              "17.795"
            ]
          },
          "metadata": {
            "tags": []
          },
          "execution_count": 73
        }
      ]
    },
    {
      "cell_type": "code",
      "metadata": {
        "id": "2SspoP5yB0Sz",
        "colab_type": "code",
        "outputId": "c9cfc6cf-8903-4865-c46c-39ae3dc83929",
        "colab": {
          "base_uri": "https://localhost:8080/",
          "height": 34
        }
      },
      "source": [
        "#Q3\n",
        "tips_data['total_conta'].quantile(.75)"
      ],
      "execution_count": 0,
      "outputs": [
        {
          "output_type": "execute_result",
          "data": {
            "text/plain": [
              "24.127499999999998"
            ]
          },
          "metadata": {
            "tags": []
          },
          "execution_count": 70
        }
      ]
    },
    {
      "cell_type": "code",
      "metadata": {
        "id": "uPBaj0w5BawM",
        "colab_type": "code",
        "outputId": "35824d97-af1b-4e88-90dd-906f6f2715c9",
        "colab": {
          "base_uri": "https://localhost:8080/",
          "height": 34
        }
      },
      "source": [
        "tips_data['total_conta'].median()"
      ],
      "execution_count": 0,
      "outputs": [
        {
          "output_type": "execute_result",
          "data": {
            "text/plain": [
              "17.795"
            ]
          },
          "metadata": {
            "tags": []
          },
          "execution_count": 72
        }
      ]
    },
    {
      "cell_type": "code",
      "metadata": {
        "id": "U_0pnCJAHJBt",
        "colab_type": "code",
        "outputId": "f2c9fc75-6736-46d0-a3b5-a8df5e2e87de",
        "colab": {
          "base_uri": "https://localhost:8080/",
          "height": 162
        }
      },
      "source": [
        "tips_data.groupby('genero').count()"
      ],
      "execution_count": 0,
      "outputs": [
        {
          "output_type": "execute_result",
          "data": {
            "text/html": [
              "<div>\n",
              "<style scoped>\n",
              "    .dataframe tbody tr th:only-of-type {\n",
              "        vertical-align: middle;\n",
              "    }\n",
              "\n",
              "    .dataframe tbody tr th {\n",
              "        vertical-align: top;\n",
              "    }\n",
              "\n",
              "    .dataframe thead th {\n",
              "        text-align: right;\n",
              "    }\n",
              "</style>\n",
              "<table border=\"1\" class=\"dataframe\">\n",
              "  <thead>\n",
              "    <tr style=\"text-align: right;\">\n",
              "      <th></th>\n",
              "      <th>total_conta</th>\n",
              "      <th>gorjeta</th>\n",
              "      <th>fumante</th>\n",
              "      <th>dia</th>\n",
              "      <th>horario</th>\n",
              "      <th>pessoas_mesa</th>\n",
              "      <th>tempo_permanencia</th>\n",
              "    </tr>\n",
              "    <tr>\n",
              "      <th>genero</th>\n",
              "      <th></th>\n",
              "      <th></th>\n",
              "      <th></th>\n",
              "      <th></th>\n",
              "      <th></th>\n",
              "      <th></th>\n",
              "      <th></th>\n",
              "    </tr>\n",
              "  </thead>\n",
              "  <tbody>\n",
              "    <tr>\n",
              "      <th>Feminino</th>\n",
              "      <td>87</td>\n",
              "      <td>87</td>\n",
              "      <td>87</td>\n",
              "      <td>87</td>\n",
              "      <td>87</td>\n",
              "      <td>87</td>\n",
              "      <td>87</td>\n",
              "    </tr>\n",
              "    <tr>\n",
              "      <th>Masculino</th>\n",
              "      <td>157</td>\n",
              "      <td>157</td>\n",
              "      <td>157</td>\n",
              "      <td>157</td>\n",
              "      <td>157</td>\n",
              "      <td>157</td>\n",
              "      <td>157</td>\n",
              "    </tr>\n",
              "  </tbody>\n",
              "</table>\n",
              "</div>"
            ],
            "text/plain": [
              "           total_conta  gorjeta  ...  pessoas_mesa  tempo_permanencia\n",
              "genero                           ...                                 \n",
              "Feminino            87       87  ...            87                 87\n",
              "Masculino          157      157  ...           157                157\n",
              "\n",
              "[2 rows x 7 columns]"
            ]
          },
          "metadata": {
            "tags": []
          },
          "execution_count": 79
        }
      ]
    },
    {
      "cell_type": "code",
      "metadata": {
        "id": "vB7gnXPqJEWw",
        "colab_type": "code",
        "outputId": "12a0e374-2416-41fd-93b9-1eafc952d660",
        "colab": {
          "base_uri": "https://localhost:8080/",
          "height": 119
        }
      },
      "source": [
        "#Temos mais homens ou mulheres fumantes no dataset? Quantas mulheres e quantos homens são fumantes?\n",
        "\n",
        "tips_data.groupby('fumante')['genero'].value_counts()"
      ],
      "execution_count": 0,
      "outputs": [
        {
          "output_type": "execute_result",
          "data": {
            "text/plain": [
              "fumante  genero   \n",
              "nao      Masculino    97\n",
              "         Feminino     54\n",
              "sim      Masculino    60\n",
              "         Feminino     33\n",
              "Name: genero, dtype: int64"
            ]
          },
          "metadata": {
            "tags": []
          },
          "execution_count": 106
        }
      ]
    },
    {
      "cell_type": "code",
      "metadata": {
        "id": "cUgMudFZKcKq",
        "colab_type": "code",
        "outputId": "db58192d-5176-43d4-efc0-8e85a9ac54b7",
        "colab": {
          "base_uri": "https://localhost:8080/",
          "height": 187
        }
      },
      "source": [
        "#Existe algum dia na semana que há mais mulheres do que homens no dataset? Se sim, qual é o dia?\n",
        "\n",
        "tips_data.groupby('genero')['dia'].value_counts()"
      ],
      "execution_count": 0,
      "outputs": [
        {
          "output_type": "execute_result",
          "data": {
            "text/plain": [
              "genero     dia\n",
              "Feminino   qui    32\n",
              "           sab    28\n",
              "           dom    18\n",
              "           sex     9\n",
              "Masculino  sab    59\n",
              "           dom    58\n",
              "           qui    30\n",
              "           sex    10\n",
              "Name: dia, dtype: int64"
            ]
          },
          "metadata": {
            "tags": []
          },
          "execution_count": 105
        }
      ]
    },
    {
      "cell_type": "code",
      "metadata": {
        "id": "ow94qD9SLDmf",
        "colab_type": "code",
        "outputId": "aadeceea-80f6-4cd0-8fef-28cbe6bcd0bf",
        "colab": {
          "base_uri": "https://localhost:8080/",
          "height": 255
        }
      },
      "source": [
        "#Qual é o numero de pessoas nas mesas que é mais comum durante o almoco e durante o jantar?\n",
        "\n",
        "tips_data.groupby('horario')['pessoas_mesa'].value_counts()\n"
      ],
      "execution_count": 0,
      "outputs": [
        {
          "output_type": "execute_result",
          "data": {
            "text/plain": [
              "horario  pessoas_mesa\n",
              "almoco   2                52\n",
              "         3                 5\n",
              "         4                 5\n",
              "         6                 3\n",
              "         1                 2\n",
              "         5                 1\n",
              "jantar   2               104\n",
              "         3                33\n",
              "         4                32\n",
              "         5                 4\n",
              "         1                 2\n",
              "         6                 1\n",
              "Name: pessoas_mesa, dtype: int64"
            ]
          },
          "metadata": {
            "tags": []
          },
          "execution_count": 108
        }
      ]
    },
    {
      "cell_type": "code",
      "metadata": {
        "id": "mqXj2FUAMLfq",
        "colab_type": "code",
        "outputId": "73455591-cffb-4313-802d-f4df16f8c055",
        "colab": {
          "base_uri": "https://localhost:8080/",
          "height": 85
        }
      },
      "source": [
        "#Em qual refeição o restaurante mais fatura?\n",
        "\n",
        "tips_data.groupby('horario')['total_conta'].sum()"
      ],
      "execution_count": 0,
      "outputs": [
        {
          "output_type": "execute_result",
          "data": {
            "text/plain": [
              "horario\n",
              "almoco    1167.47\n",
              "jantar    3660.30\n",
              "Name: total_conta, dtype: float64"
            ]
          },
          "metadata": {
            "tags": []
          },
          "execution_count": 109
        }
      ]
    },
    {
      "cell_type": "code",
      "metadata": {
        "id": "B1DqUziOMpwr",
        "colab_type": "code",
        "outputId": "02c88d26-ba74-4fdc-f4a2-154f08faf4f1",
        "colab": {
          "base_uri": "https://localhost:8080/",
          "height": 142
        }
      },
      "source": [
        "#Mostre a soma total e a média das contas por gênero com um único comando do Pandas.\n",
        "\n",
        "tips_data.groupby('genero')['total_conta'].agg(['sum','mean'])"
      ],
      "execution_count": 0,
      "outputs": [
        {
          "output_type": "execute_result",
          "data": {
            "text/html": [
              "<div>\n",
              "<style scoped>\n",
              "    .dataframe tbody tr th:only-of-type {\n",
              "        vertical-align: middle;\n",
              "    }\n",
              "\n",
              "    .dataframe tbody tr th {\n",
              "        vertical-align: top;\n",
              "    }\n",
              "\n",
              "    .dataframe thead th {\n",
              "        text-align: right;\n",
              "    }\n",
              "</style>\n",
              "<table border=\"1\" class=\"dataframe\">\n",
              "  <thead>\n",
              "    <tr style=\"text-align: right;\">\n",
              "      <th></th>\n",
              "      <th>sum</th>\n",
              "      <th>mean</th>\n",
              "    </tr>\n",
              "    <tr>\n",
              "      <th>genero</th>\n",
              "      <th></th>\n",
              "      <th></th>\n",
              "    </tr>\n",
              "  </thead>\n",
              "  <tbody>\n",
              "    <tr>\n",
              "      <th>Feminino</th>\n",
              "      <td>1570.95</td>\n",
              "      <td>18.056897</td>\n",
              "    </tr>\n",
              "    <tr>\n",
              "      <th>Masculino</th>\n",
              "      <td>3256.82</td>\n",
              "      <td>20.744076</td>\n",
              "    </tr>\n",
              "  </tbody>\n",
              "</table>\n",
              "</div>"
            ],
            "text/plain": [
              "               sum       mean\n",
              "genero                       \n",
              "Feminino   1570.95  18.056897\n",
              "Masculino  3256.82  20.744076"
            ]
          },
          "metadata": {
            "tags": []
          },
          "execution_count": 110
        }
      ]
    },
    {
      "cell_type": "code",
      "metadata": {
        "id": "H0E0a8a8YHmo",
        "colab_type": "code",
        "outputId": "94998246-83d0-4230-9f5a-a222063d181a",
        "colab": {
          "base_uri": "https://localhost:8080/",
          "height": 296
        }
      },
      "source": [
        "#Explore a visualização do tempo de permanência (coluna tempo_permanencia) utilizando um histograma.\n",
        "\n",
        "plt.hist(tips_data['tempo_permanencia'],color='pink')\n",
        "plt.title('Histograma:Tempo de Permanencia')\n",
        "plt.xlabel('tempo_permanencia')\n",
        "plt.ylabel('Frequencia');"
      ],
      "execution_count": 0,
      "outputs": [
        {
          "output_type": "display_data",
          "data": {
            "image/png": "[encoded data removed]",
            "text/plain": [
              "<Figure size 432x288 with 1 Axes>"
            ]
          },
          "metadata": {
            "tags": []
          }
        }
      ]
    },
    {
      "cell_type": "code",
      "metadata": {
        "id": "QScvKDiNYe0N",
        "colab_type": "code",
        "outputId": "dd712677-29a5-4701-da46-f584f3fe02ac",
        "colab": {
          "base_uri": "https://localhost:8080/",
          "height": 281
        }
      },
      "source": [
        "#Observe a distribuição do valor da conta (coluna total_conta) utilizando um boxplot.\n",
        "plt.boxplot(tips_data['total_conta'])\n",
        "plt.title('Boxplot:Total da Conta')\n",
        "plt.ylabel('total_conta');\n"
      ],
      "execution_count": 0,
      "outputs": [
        {
          "output_type": "display_data",
          "data": {
            "image/png": "[encoded data removed]",
            "text/plain": [
              "<Figure size 432x288 with 1 Axes>"
            ]
          },
          "metadata": {
            "tags": []
          }
        }
      ]
    },
    {
      "cell_type": "code",
      "metadata": {
        "id": "RuJzgr3KeqRy",
        "colab_type": "code",
        "outputId": "76359097-8bf4-4efe-d374-9b7fef4ec275",
        "colab": {
          "base_uri": "https://localhost:8080/",
          "height": 34
        }
      },
      "source": [
        "#Explore a visualização do tempo de permanência (coluna tempo_permanencia) utilizando um histograma.\n",
        "\n",
        "tips_data['tempo_permanencia'].var()"
      ],
      "execution_count": 0,
      "outputs": [
        {
          "output_type": "execute_result",
          "data": {
            "text/plain": [
              "26.59758483437902"
            ]
          },
          "metadata": {
            "tags": []
          },
          "execution_count": 139
        }
      ]
    },
    {
      "cell_type": "code",
      "metadata": {
        "id": "ad5aHHR8fIBR",
        "colab_type": "code",
        "outputId": "7999ff80-85e5-4742-b5ac-581cddfc9f72",
        "colab": {
          "base_uri": "https://localhost:8080/",
          "height": 34
        }
      },
      "source": [
        "tips_data['tempo_permanencia'].std()"
      ],
      "execution_count": 0,
      "outputs": [
        {
          "output_type": "execute_result",
          "data": {
            "text/plain": [
              "5.157284637711886"
            ]
          },
          "metadata": {
            "tags": []
          },
          "execution_count": 141
        }
      ]
    },
    {
      "cell_type": "code",
      "metadata": {
        "id": "wZDC33eBfZj-",
        "colab_type": "code",
        "outputId": "a4180d72-fa75-4dd6-b2f4-bdd937302f42",
        "colab": {
          "base_uri": "https://localhost:8080/",
          "height": 34
        }
      },
      "source": [
        "#Observe a distribuição do valor da conta (coluna total_conta) utilizando um boxplot\n",
        "tips_data['total_conta'].std()"
      ],
      "execution_count": 0,
      "outputs": [
        {
          "output_type": "execute_result",
          "data": {
            "text/plain": [
              "8.902411954856856"
            ]
          },
          "metadata": {
            "tags": []
          },
          "execution_count": 142
        }
      ]
    },
    {
      "cell_type": "code",
      "metadata": {
        "id": "3v0UpTmNf19_",
        "colab_type": "code",
        "outputId": "b8c6a7b0-fd9d-48e8-e441-c413b961bd66",
        "colab": {
          "base_uri": "https://localhost:8080/",
          "height": 34
        }
      },
      "source": [
        "tips_data[tips_data['genero']=='Feminino']['total_conta'].std()"
      ],
      "execution_count": 0,
      "outputs": [
        {
          "output_type": "execute_result",
          "data": {
            "text/plain": [
              "8.009208988951961"
            ]
          },
          "metadata": {
            "tags": []
          },
          "execution_count": 143
        }
      ]
    },
    {
      "cell_type": "code",
      "metadata": {
        "id": "F_Niw-uGgpMi",
        "colab_type": "code",
        "outputId": "d9af87ff-c911-4915-bfcf-6b48cb716af5",
        "colab": {
          "base_uri": "https://localhost:8080/",
          "height": 34
        }
      },
      "source": [
        "tips_data[tips_data['genero']=='Masculino']['total_conta'].std()"
      ],
      "execution_count": 0,
      "outputs": [
        {
          "output_type": "execute_result",
          "data": {
            "text/plain": [
              "9.24646876154476"
            ]
          },
          "metadata": {
            "tags": []
          },
          "execution_count": 144
        }
      ]
    },
    {
      "cell_type": "code",
      "metadata": {
        "id": "YGgRFW-yg0HU",
        "colab_type": "code",
        "outputId": "5073d118-18aa-4f37-b074-8e50cd147994",
        "colab": {
          "base_uri": "https://localhost:8080/",
          "height": 85
        }
      },
      "source": [
        "#outro modo\n",
        "tips_data.groupby('genero')['total_conta'].std()"
      ],
      "execution_count": 0,
      "outputs": [
        {
          "output_type": "execute_result",
          "data": {
            "text/plain": [
              "genero\n",
              "Feminino     8.009209\n",
              "Masculino    9.246469\n",
              "Name: total_conta, dtype: float64"
            ]
          },
          "metadata": {
            "tags": []
          },
          "execution_count": 145
        }
      ]
    },
    {
      "cell_type": "code",
      "metadata": {
        "id": "l-51GK7khyo2",
        "colab_type": "code",
        "outputId": "c9725af1-4574-427f-cd89-8b51116eb8b8",
        "colab": {
          "base_uri": "https://localhost:8080/",
          "height": 170
        }
      },
      "source": [
        "#As informações do faturamento do restaurante.\n",
        "tips_data['total_conta'].describe()"
      ],
      "execution_count": 0,
      "outputs": [
        {
          "output_type": "execute_result",
          "data": {
            "text/plain": [
              "count    244.000000\n",
              "mean      19.785943\n",
              "std        8.902412\n",
              "min        3.070000\n",
              "25%       13.347500\n",
              "50%       17.795000\n",
              "75%       24.127500\n",
              "max       50.810000\n",
              "Name: total_conta, dtype: float64"
            ]
          },
          "metadata": {
            "tags": []
          },
          "execution_count": 152
        }
      ]
    },
    {
      "cell_type": "code",
      "metadata": {
        "id": "wC76TTwbhKVf",
        "colab_type": "code",
        "outputId": "fb6f483b-25f0-4588-8f82-5c338f205668",
        "colab": {
          "base_uri": "https://localhost:8080/",
          "height": 297
        }
      },
      "source": [
        "#As informações de todo o dataset.\n",
        "tips_data.describe()"
      ],
      "execution_count": 0,
      "outputs": [
        {
          "output_type": "execute_result",
          "data": {
            "text/html": [
              "<div>\n",
              "<style scoped>\n",
              "    .dataframe tbody tr th:only-of-type {\n",
              "        vertical-align: middle;\n",
              "    }\n",
              "\n",
              "    .dataframe tbody tr th {\n",
              "        vertical-align: top;\n",
              "    }\n",
              "\n",
              "    .dataframe thead th {\n",
              "        text-align: right;\n",
              "    }\n",
              "</style>\n",
              "<table border=\"1\" class=\"dataframe\">\n",
              "  <thead>\n",
              "    <tr style=\"text-align: right;\">\n",
              "      <th></th>\n",
              "      <th>total_conta</th>\n",
              "      <th>gorjeta</th>\n",
              "      <th>pessoas_mesa</th>\n",
              "      <th>tempo_permanencia</th>\n",
              "    </tr>\n",
              "  </thead>\n",
              "  <tbody>\n",
              "    <tr>\n",
              "      <th>count</th>\n",
              "      <td>244.000000</td>\n",
              "      <td>244.000000</td>\n",
              "      <td>244.000000</td>\n",
              "      <td>244.000000</td>\n",
              "    </tr>\n",
              "    <tr>\n",
              "      <th>mean</th>\n",
              "      <td>19.785943</td>\n",
              "      <td>2.998279</td>\n",
              "      <td>2.569672</td>\n",
              "      <td>40.262295</td>\n",
              "    </tr>\n",
              "    <tr>\n",
              "      <th>std</th>\n",
              "      <td>8.902412</td>\n",
              "      <td>1.383638</td>\n",
              "      <td>0.951100</td>\n",
              "      <td>5.157285</td>\n",
              "    </tr>\n",
              "    <tr>\n",
              "      <th>min</th>\n",
              "      <td>3.070000</td>\n",
              "      <td>1.000000</td>\n",
              "      <td>1.000000</td>\n",
              "      <td>26.000000</td>\n",
              "    </tr>\n",
              "    <tr>\n",
              "      <th>25%</th>\n",
              "      <td>13.347500</td>\n",
              "      <td>2.000000</td>\n",
              "      <td>2.000000</td>\n",
              "      <td>37.000000</td>\n",
              "    </tr>\n",
              "    <tr>\n",
              "      <th>50%</th>\n",
              "      <td>17.795000</td>\n",
              "      <td>2.900000</td>\n",
              "      <td>2.000000</td>\n",
              "      <td>40.000000</td>\n",
              "    </tr>\n",
              "    <tr>\n",
              "      <th>75%</th>\n",
              "      <td>24.127500</td>\n",
              "      <td>3.562500</td>\n",
              "      <td>3.000000</td>\n",
              "      <td>44.000000</td>\n",
              "    </tr>\n",
              "    <tr>\n",
              "      <th>max</th>\n",
              "      <td>50.810000</td>\n",
              "      <td>10.000000</td>\n",
              "      <td>6.000000</td>\n",
              "      <td>53.000000</td>\n",
              "    </tr>\n",
              "  </tbody>\n",
              "</table>\n",
              "</div>"
            ],
            "text/plain": [
              "       total_conta     gorjeta  pessoas_mesa  tempo_permanencia\n",
              "count   244.000000  244.000000    244.000000         244.000000\n",
              "mean     19.785943    2.998279      2.569672          40.262295\n",
              "std       8.902412    1.383638      0.951100           5.157285\n",
              "min       3.070000    1.000000      1.000000          26.000000\n",
              "25%      13.347500    2.000000      2.000000          37.000000\n",
              "50%      17.795000    2.900000      2.000000          40.000000\n",
              "75%      24.127500    3.562500      3.000000          44.000000\n",
              "max      50.810000   10.000000      6.000000          53.000000"
            ]
          },
          "metadata": {
            "tags": []
          },
          "execution_count": 148
        }
      ]
    },
    {
      "cell_type": "code",
      "metadata": {
        "id": "rt0Wa84Ahtcj",
        "colab_type": "code",
        "outputId": "3184011b-9702-4b62-d96c-9fd84f86b3aa",
        "colab": {
          "base_uri": "https://localhost:8080/",
          "height": 193
        }
      },
      "source": [
        "tips_data.describe().T"
      ],
      "execution_count": 0,
      "outputs": [
        {
          "output_type": "execute_result",
          "data": {
            "text/html": [
              "<div>\n",
              "<style scoped>\n",
              "    .dataframe tbody tr th:only-of-type {\n",
              "        vertical-align: middle;\n",
              "    }\n",
              "\n",
              "    .dataframe tbody tr th {\n",
              "        vertical-align: top;\n",
              "    }\n",
              "\n",
              "    .dataframe thead th {\n",
              "        text-align: right;\n",
              "    }\n",
              "</style>\n",
              "<table border=\"1\" class=\"dataframe\">\n",
              "  <thead>\n",
              "    <tr style=\"text-align: right;\">\n",
              "      <th></th>\n",
              "      <th>count</th>\n",
              "      <th>mean</th>\n",
              "      <th>std</th>\n",
              "      <th>min</th>\n",
              "      <th>25%</th>\n",
              "      <th>50%</th>\n",
              "      <th>75%</th>\n",
              "      <th>max</th>\n",
              "    </tr>\n",
              "  </thead>\n",
              "  <tbody>\n",
              "    <tr>\n",
              "      <th>total_conta</th>\n",
              "      <td>244.0</td>\n",
              "      <td>19.785943</td>\n",
              "      <td>8.902412</td>\n",
              "      <td>3.07</td>\n",
              "      <td>13.3475</td>\n",
              "      <td>17.795</td>\n",
              "      <td>24.1275</td>\n",
              "      <td>50.81</td>\n",
              "    </tr>\n",
              "    <tr>\n",
              "      <th>gorjeta</th>\n",
              "      <td>244.0</td>\n",
              "      <td>2.998279</td>\n",
              "      <td>1.383638</td>\n",
              "      <td>1.00</td>\n",
              "      <td>2.0000</td>\n",
              "      <td>2.900</td>\n",
              "      <td>3.5625</td>\n",
              "      <td>10.00</td>\n",
              "    </tr>\n",
              "    <tr>\n",
              "      <th>pessoas_mesa</th>\n",
              "      <td>244.0</td>\n",
              "      <td>2.569672</td>\n",
              "      <td>0.951100</td>\n",
              "      <td>1.00</td>\n",
              "      <td>2.0000</td>\n",
              "      <td>2.000</td>\n",
              "      <td>3.0000</td>\n",
              "      <td>6.00</td>\n",
              "    </tr>\n",
              "    <tr>\n",
              "      <th>tempo_permanencia</th>\n",
              "      <td>244.0</td>\n",
              "      <td>40.262295</td>\n",
              "      <td>5.157285</td>\n",
              "      <td>26.00</td>\n",
              "      <td>37.0000</td>\n",
              "      <td>40.000</td>\n",
              "      <td>44.0000</td>\n",
              "      <td>53.00</td>\n",
              "    </tr>\n",
              "  </tbody>\n",
              "</table>\n",
              "</div>"
            ],
            "text/plain": [
              "                   count       mean       std  ...     50%      75%    max\n",
              "total_conta        244.0  19.785943  8.902412  ...  17.795  24.1275  50.81\n",
              "gorjeta            244.0   2.998279  1.383638  ...   2.900   3.5625  10.00\n",
              "pessoas_mesa       244.0   2.569672  0.951100  ...   2.000   3.0000   6.00\n",
              "tempo_permanencia  244.0  40.262295  5.157285  ...  40.000  44.0000  53.00\n",
              "\n",
              "[4 rows x 8 columns]"
            ]
          },
          "metadata": {
            "tags": []
          },
          "execution_count": 157
        }
      ]
    }
  ]
}